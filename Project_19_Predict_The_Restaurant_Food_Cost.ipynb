{
 "cells": [
  {
   "cell_type": "code",
   "execution_count": 1,
   "metadata": {},
   "outputs": [],
   "source": [
    "#Importing all the required library"
   ]
  },
  {
   "cell_type": "code",
   "execution_count": 2,
   "metadata": {},
   "outputs": [],
   "source": [
    "import pandas as pd\n",
    "import numpy as np\n",
    "import seaborn as sns\n",
    "import matplotlib.pyplot as plt\n",
    "from scipy.stats import zscore\n",
    "import sklearn\n",
    "from sklearn.pipeline import Pipeline\n",
    "from sklearn.preprocessing import StandardScaler\n",
    "from sklearn.model_selection import train_test_split,cross_val_score\n",
    "from sklearn.metrics import mean_absolute_error\n",
    "from sklearn.metrics import mean_squared_error\n",
    "from sklearn.metrics import r2_score\n",
    "from sklearn.model_selection import GridSearchCV\n",
    "from sklearn.tree import DecisionTreeRegressor\n",
    "from sklearn.ensemble import RandomForestRegressor\n",
    "from sklearn.neighbors import KNeighborsRegressor\n",
    "from sklearn.linear_model import LinearRegression,Lasso,Ridge,ElasticNet\n",
    "from sklearn.linear_model import ElasticNet\n",
    "from sklearn.ensemble import AdaBoostRegressor\n",
    "from sklearn.ensemble import RandomForestRegressor\n",
    "from sklearn.ensemble import GradientBoostingRegressor\n",
    "from xgboost import XGBRegressor\n",
    "import warnings\n",
    "warnings.filterwarnings('ignore')\n",
    "%matplotlib inline"
   ]
  },
  {
   "cell_type": "code",
   "execution_count": 3,
   "metadata": {},
   "outputs": [
    {
     "data": {
      "text/html": [
       "<div>\n",
       "<style scoped>\n",
       "    .dataframe tbody tr th:only-of-type {\n",
       "        vertical-align: middle;\n",
       "    }\n",
       "\n",
       "    .dataframe tbody tr th {\n",
       "        vertical-align: top;\n",
       "    }\n",
       "\n",
       "    .dataframe thead th {\n",
       "        text-align: right;\n",
       "    }\n",
       "</style>\n",
       "<table border=\"1\" class=\"dataframe\">\n",
       "  <thead>\n",
       "    <tr style=\"text-align: right;\">\n",
       "      <th></th>\n",
       "      <th>TITLE</th>\n",
       "      <th>RESTAURANT_ID</th>\n",
       "      <th>CUISINES</th>\n",
       "      <th>TIME</th>\n",
       "      <th>CITY</th>\n",
       "      <th>LOCALITY</th>\n",
       "      <th>RATING</th>\n",
       "      <th>VOTES</th>\n",
       "      <th>COST</th>\n",
       "    </tr>\n",
       "  </thead>\n",
       "  <tbody>\n",
       "    <tr>\n",
       "      <th>0</th>\n",
       "      <td>CASUAL DINING</td>\n",
       "      <td>9438</td>\n",
       "      <td>Malwani, Goan, North Indian</td>\n",
       "      <td>11am – 4pm, 7:30pm – 11:30pm (Mon-Sun)</td>\n",
       "      <td>Thane</td>\n",
       "      <td>Dombivali East</td>\n",
       "      <td>3.6</td>\n",
       "      <td>49 votes</td>\n",
       "      <td>1200</td>\n",
       "    </tr>\n",
       "    <tr>\n",
       "      <th>1</th>\n",
       "      <td>CASUAL DINING,BAR</td>\n",
       "      <td>13198</td>\n",
       "      <td>Asian, Modern Indian, Japanese</td>\n",
       "      <td>6pm – 11pm (Mon-Sun)</td>\n",
       "      <td>Chennai</td>\n",
       "      <td>Ramapuram</td>\n",
       "      <td>4.2</td>\n",
       "      <td>30 votes</td>\n",
       "      <td>1500</td>\n",
       "    </tr>\n",
       "    <tr>\n",
       "      <th>2</th>\n",
       "      <td>CASUAL DINING</td>\n",
       "      <td>10915</td>\n",
       "      <td>North Indian, Chinese, Biryani, Hyderabadi</td>\n",
       "      <td>11am – 3:30pm, 7pm – 11pm (Mon-Sun)</td>\n",
       "      <td>Chennai</td>\n",
       "      <td>Saligramam</td>\n",
       "      <td>3.8</td>\n",
       "      <td>221 votes</td>\n",
       "      <td>800</td>\n",
       "    </tr>\n",
       "    <tr>\n",
       "      <th>3</th>\n",
       "      <td>QUICK BITES</td>\n",
       "      <td>6346</td>\n",
       "      <td>Tibetan, Chinese</td>\n",
       "      <td>11:30am – 1am (Mon-Sun)</td>\n",
       "      <td>Mumbai</td>\n",
       "      <td>Bandra West</td>\n",
       "      <td>4.1</td>\n",
       "      <td>24 votes</td>\n",
       "      <td>800</td>\n",
       "    </tr>\n",
       "    <tr>\n",
       "      <th>4</th>\n",
       "      <td>DESSERT PARLOR</td>\n",
       "      <td>15387</td>\n",
       "      <td>Desserts</td>\n",
       "      <td>11am – 1am (Mon-Sun)</td>\n",
       "      <td>Mumbai</td>\n",
       "      <td>Lower Parel</td>\n",
       "      <td>3.8</td>\n",
       "      <td>165 votes</td>\n",
       "      <td>300</td>\n",
       "    </tr>\n",
       "  </tbody>\n",
       "</table>\n",
       "</div>"
      ],
      "text/plain": [
       "               TITLE  RESTAURANT_ID  \\\n",
       "0      CASUAL DINING           9438   \n",
       "1  CASUAL DINING,BAR          13198   \n",
       "2      CASUAL DINING          10915   \n",
       "3        QUICK BITES           6346   \n",
       "4     DESSERT PARLOR          15387   \n",
       "\n",
       "                                     CUISINES  \\\n",
       "0                 Malwani, Goan, North Indian   \n",
       "1              Asian, Modern Indian, Japanese   \n",
       "2  North Indian, Chinese, Biryani, Hyderabadi   \n",
       "3                            Tibetan, Chinese   \n",
       "4                                    Desserts   \n",
       "\n",
       "                                     TIME     CITY        LOCALITY RATING  \\\n",
       "0  11am – 4pm, 7:30pm – 11:30pm (Mon-Sun)    Thane  Dombivali East    3.6   \n",
       "1                    6pm – 11pm (Mon-Sun)  Chennai       Ramapuram    4.2   \n",
       "2     11am – 3:30pm, 7pm – 11pm (Mon-Sun)  Chennai      Saligramam    3.8   \n",
       "3                 11:30am – 1am (Mon-Sun)   Mumbai     Bandra West    4.1   \n",
       "4                    11am – 1am (Mon-Sun)   Mumbai     Lower Parel    3.8   \n",
       "\n",
       "       VOTES  COST  \n",
       "0   49 votes  1200  \n",
       "1   30 votes  1500  \n",
       "2  221 votes   800  \n",
       "3   24 votes   800  \n",
       "4  165 votes   300  "
      ]
     },
     "execution_count": 3,
     "metadata": {},
     "output_type": "execute_result"
    }
   ],
   "source": [
    "#Reading the Train Dataset\n",
    "Traindf=pd.read_excel('C:/Users/User/Documents/Data Trained/Data-Science-ML-Capstone-Projects-master/Participants_Data_Final/Data_Train.xlsx')\n",
    "Traindf.head()"
   ]
  },
  {
   "cell_type": "code",
   "execution_count": 4,
   "metadata": {},
   "outputs": [
    {
     "data": {
      "text/plain": [
       "(12690, 9)"
      ]
     },
     "execution_count": 4,
     "metadata": {},
     "output_type": "execute_result"
    }
   ],
   "source": [
    "Traindf.shape"
   ]
  },
  {
   "cell_type": "code",
   "execution_count": 5,
   "metadata": {},
   "outputs": [
    {
     "data": {
      "text/plain": [
       "Index(['TITLE', 'RESTAURANT_ID', 'CUISINES', 'TIME', 'CITY', 'LOCALITY',\n",
       "       'RATING', 'VOTES', 'COST'],\n",
       "      dtype='object')"
      ]
     },
     "execution_count": 5,
     "metadata": {},
     "output_type": "execute_result"
    }
   ],
   "source": [
    "Traindf.columns"
   ]
  },
  {
   "cell_type": "code",
   "execution_count": 6,
   "metadata": {},
   "outputs": [],
   "source": [
    "Testdf=pd.read_excel('C:/Users/User/Documents/Data Trained/Data-Science-ML-Capstone-Projects-master/Participants_Data_Final/Data_Test.xlsx')"
   ]
  },
  {
   "cell_type": "code",
   "execution_count": 7,
   "metadata": {},
   "outputs": [
    {
     "data": {
      "text/html": [
       "<div>\n",
       "<style scoped>\n",
       "    .dataframe tbody tr th:only-of-type {\n",
       "        vertical-align: middle;\n",
       "    }\n",
       "\n",
       "    .dataframe tbody tr th {\n",
       "        vertical-align: top;\n",
       "    }\n",
       "\n",
       "    .dataframe thead th {\n",
       "        text-align: right;\n",
       "    }\n",
       "</style>\n",
       "<table border=\"1\" class=\"dataframe\">\n",
       "  <thead>\n",
       "    <tr style=\"text-align: right;\">\n",
       "      <th></th>\n",
       "      <th>TITLE</th>\n",
       "      <th>RESTAURANT_ID</th>\n",
       "      <th>CUISINES</th>\n",
       "      <th>TIME</th>\n",
       "      <th>CITY</th>\n",
       "      <th>LOCALITY</th>\n",
       "      <th>RATING</th>\n",
       "      <th>VOTES</th>\n",
       "    </tr>\n",
       "  </thead>\n",
       "  <tbody>\n",
       "    <tr>\n",
       "      <th>0</th>\n",
       "      <td>CASUAL DINING</td>\n",
       "      <td>4085</td>\n",
       "      <td>North Indian, Chinese, Mughlai, Kebab</td>\n",
       "      <td>12noon – 12midnight (Mon-Sun)</td>\n",
       "      <td>Noida</td>\n",
       "      <td>Sector 18</td>\n",
       "      <td>4.3</td>\n",
       "      <td>564 votes</td>\n",
       "    </tr>\n",
       "    <tr>\n",
       "      <th>1</th>\n",
       "      <td>QUICK BITES</td>\n",
       "      <td>12680</td>\n",
       "      <td>South Indian, Fast Food, Pizza, North Indian</td>\n",
       "      <td>7am – 12:30AM (Mon-Sun)</td>\n",
       "      <td>Mumbai</td>\n",
       "      <td>Grant Road</td>\n",
       "      <td>4.2</td>\n",
       "      <td>61 votes</td>\n",
       "    </tr>\n",
       "    <tr>\n",
       "      <th>2</th>\n",
       "      <td>CASUAL DINING</td>\n",
       "      <td>1411</td>\n",
       "      <td>North Indian, Seafood, Biryani, Chinese</td>\n",
       "      <td>11am – 11:30pm (Mon-Sun)</td>\n",
       "      <td>Mumbai</td>\n",
       "      <td>Marine Lines</td>\n",
       "      <td>3.8</td>\n",
       "      <td>350 votes</td>\n",
       "    </tr>\n",
       "    <tr>\n",
       "      <th>3</th>\n",
       "      <td>None</td>\n",
       "      <td>204</td>\n",
       "      <td>Biryani</td>\n",
       "      <td>9am – 10pm (Mon, Wed, Thu, Fri, Sat, Sun), 10:...</td>\n",
       "      <td>Faridabad</td>\n",
       "      <td>NIT</td>\n",
       "      <td>3.8</td>\n",
       "      <td>1445 votes</td>\n",
       "    </tr>\n",
       "    <tr>\n",
       "      <th>4</th>\n",
       "      <td>QUICK BITES</td>\n",
       "      <td>13453</td>\n",
       "      <td>South Indian, Kerala</td>\n",
       "      <td>11am – 10pm (Mon-Sun)</td>\n",
       "      <td>Kochi</td>\n",
       "      <td>Kaloor</td>\n",
       "      <td>3.6</td>\n",
       "      <td>23 votes</td>\n",
       "    </tr>\n",
       "  </tbody>\n",
       "</table>\n",
       "</div>"
      ],
      "text/plain": [
       "           TITLE  RESTAURANT_ID                                      CUISINES  \\\n",
       "0  CASUAL DINING           4085         North Indian, Chinese, Mughlai, Kebab   \n",
       "1    QUICK BITES          12680  South Indian, Fast Food, Pizza, North Indian   \n",
       "2  CASUAL DINING           1411       North Indian, Seafood, Biryani, Chinese   \n",
       "3           None            204                                       Biryani   \n",
       "4    QUICK BITES          13453                          South Indian, Kerala   \n",
       "\n",
       "                                                TIME       CITY      LOCALITY  \\\n",
       "0                      12noon – 12midnight (Mon-Sun)      Noida     Sector 18   \n",
       "1                            7am – 12:30AM (Mon-Sun)     Mumbai    Grant Road   \n",
       "2                           11am – 11:30pm (Mon-Sun)     Mumbai  Marine Lines   \n",
       "3  9am – 10pm (Mon, Wed, Thu, Fri, Sat, Sun), 10:...  Faridabad           NIT   \n",
       "4                              11am – 10pm (Mon-Sun)      Kochi        Kaloor   \n",
       "\n",
       "  RATING       VOTES  \n",
       "0    4.3   564 votes  \n",
       "1    4.2    61 votes  \n",
       "2    3.8   350 votes  \n",
       "3    3.8  1445 votes  \n",
       "4    3.6    23 votes  "
      ]
     },
     "execution_count": 7,
     "metadata": {},
     "output_type": "execute_result"
    }
   ],
   "source": [
    "Testdf.head()"
   ]
  },
  {
   "cell_type": "code",
   "execution_count": 8,
   "metadata": {},
   "outputs": [
    {
     "data": {
      "text/plain": [
       "(4231, 8)"
      ]
     },
     "execution_count": 8,
     "metadata": {},
     "output_type": "execute_result"
    }
   ],
   "source": [
    "Testdf.shape"
   ]
  },
  {
   "cell_type": "code",
   "execution_count": 9,
   "metadata": {},
   "outputs": [],
   "source": [
    "Traindf[\"DATA\"] = \"train\"\n",
    "Testdf[\"DATA\"] = \"test\"\n",
    "Testdf[\"COST\"]=0"
   ]
  },
  {
   "cell_type": "code",
   "execution_count": 10,
   "metadata": {},
   "outputs": [
    {
     "data": {
      "text/html": [
       "<div>\n",
       "<style scoped>\n",
       "    .dataframe tbody tr th:only-of-type {\n",
       "        vertical-align: middle;\n",
       "    }\n",
       "\n",
       "    .dataframe tbody tr th {\n",
       "        vertical-align: top;\n",
       "    }\n",
       "\n",
       "    .dataframe thead th {\n",
       "        text-align: right;\n",
       "    }\n",
       "</style>\n",
       "<table border=\"1\" class=\"dataframe\">\n",
       "  <thead>\n",
       "    <tr style=\"text-align: right;\">\n",
       "      <th></th>\n",
       "      <th>CITY</th>\n",
       "      <th>COST</th>\n",
       "      <th>CUISINES</th>\n",
       "      <th>DATA</th>\n",
       "      <th>LOCALITY</th>\n",
       "      <th>RATING</th>\n",
       "      <th>RESTAURANT_ID</th>\n",
       "      <th>TIME</th>\n",
       "      <th>TITLE</th>\n",
       "      <th>VOTES</th>\n",
       "    </tr>\n",
       "  </thead>\n",
       "  <tbody>\n",
       "    <tr>\n",
       "      <th>0</th>\n",
       "      <td>Thane</td>\n",
       "      <td>1200</td>\n",
       "      <td>Malwani, Goan, North Indian</td>\n",
       "      <td>train</td>\n",
       "      <td>Dombivali East</td>\n",
       "      <td>3.6</td>\n",
       "      <td>9438</td>\n",
       "      <td>11am – 4pm, 7:30pm – 11:30pm (Mon-Sun)</td>\n",
       "      <td>CASUAL DINING</td>\n",
       "      <td>49 votes</td>\n",
       "    </tr>\n",
       "    <tr>\n",
       "      <th>1</th>\n",
       "      <td>Chennai</td>\n",
       "      <td>1500</td>\n",
       "      <td>Asian, Modern Indian, Japanese</td>\n",
       "      <td>train</td>\n",
       "      <td>Ramapuram</td>\n",
       "      <td>4.2</td>\n",
       "      <td>13198</td>\n",
       "      <td>6pm – 11pm (Mon-Sun)</td>\n",
       "      <td>CASUAL DINING,BAR</td>\n",
       "      <td>30 votes</td>\n",
       "    </tr>\n",
       "    <tr>\n",
       "      <th>2</th>\n",
       "      <td>Chennai</td>\n",
       "      <td>800</td>\n",
       "      <td>North Indian, Chinese, Biryani, Hyderabadi</td>\n",
       "      <td>train</td>\n",
       "      <td>Saligramam</td>\n",
       "      <td>3.8</td>\n",
       "      <td>10915</td>\n",
       "      <td>11am – 3:30pm, 7pm – 11pm (Mon-Sun)</td>\n",
       "      <td>CASUAL DINING</td>\n",
       "      <td>221 votes</td>\n",
       "    </tr>\n",
       "    <tr>\n",
       "      <th>3</th>\n",
       "      <td>Mumbai</td>\n",
       "      <td>800</td>\n",
       "      <td>Tibetan, Chinese</td>\n",
       "      <td>train</td>\n",
       "      <td>Bandra West</td>\n",
       "      <td>4.1</td>\n",
       "      <td>6346</td>\n",
       "      <td>11:30am – 1am (Mon-Sun)</td>\n",
       "      <td>QUICK BITES</td>\n",
       "      <td>24 votes</td>\n",
       "    </tr>\n",
       "    <tr>\n",
       "      <th>4</th>\n",
       "      <td>Mumbai</td>\n",
       "      <td>300</td>\n",
       "      <td>Desserts</td>\n",
       "      <td>train</td>\n",
       "      <td>Lower Parel</td>\n",
       "      <td>3.8</td>\n",
       "      <td>15387</td>\n",
       "      <td>11am – 1am (Mon-Sun)</td>\n",
       "      <td>DESSERT PARLOR</td>\n",
       "      <td>165 votes</td>\n",
       "    </tr>\n",
       "  </tbody>\n",
       "</table>\n",
       "</div>"
      ],
      "text/plain": [
       "      CITY  COST                                    CUISINES   DATA  \\\n",
       "0    Thane  1200                 Malwani, Goan, North Indian  train   \n",
       "1  Chennai  1500              Asian, Modern Indian, Japanese  train   \n",
       "2  Chennai   800  North Indian, Chinese, Biryani, Hyderabadi  train   \n",
       "3   Mumbai   800                            Tibetan, Chinese  train   \n",
       "4   Mumbai   300                                    Desserts  train   \n",
       "\n",
       "         LOCALITY RATING  RESTAURANT_ID  \\\n",
       "0  Dombivali East    3.6           9438   \n",
       "1       Ramapuram    4.2          13198   \n",
       "2      Saligramam    3.8          10915   \n",
       "3     Bandra West    4.1           6346   \n",
       "4     Lower Parel    3.8          15387   \n",
       "\n",
       "                                     TIME              TITLE      VOTES  \n",
       "0  11am – 4pm, 7:30pm – 11:30pm (Mon-Sun)      CASUAL DINING   49 votes  \n",
       "1                    6pm – 11pm (Mon-Sun)  CASUAL DINING,BAR   30 votes  \n",
       "2     11am – 3:30pm, 7pm – 11pm (Mon-Sun)      CASUAL DINING  221 votes  \n",
       "3                 11:30am – 1am (Mon-Sun)        QUICK BITES   24 votes  \n",
       "4                    11am – 1am (Mon-Sun)     DESSERT PARLOR  165 votes  "
      ]
     },
     "execution_count": 10,
     "metadata": {},
     "output_type": "execute_result"
    }
   ],
   "source": [
    "df=pd.concat([Traindf,Testdf])\n",
    "\n",
    "df.head()"
   ]
  },
  {
   "cell_type": "code",
   "execution_count": 11,
   "metadata": {},
   "outputs": [
    {
     "data": {
      "text/plain": [
       "(16921, 10)"
      ]
     },
     "execution_count": 11,
     "metadata": {},
     "output_type": "execute_result"
    }
   ],
   "source": [
    "df.shape"
   ]
  },
  {
   "cell_type": "code",
   "execution_count": 12,
   "metadata": {},
   "outputs": [
    {
     "data": {
      "text/plain": [
       "Index(['CITY', 'COST', 'CUISINES', 'DATA', 'LOCALITY', 'RATING',\n",
       "       'RESTAURANT_ID', 'TIME', 'TITLE', 'VOTES'],\n",
       "      dtype='object')"
      ]
     },
     "execution_count": 12,
     "metadata": {},
     "output_type": "execute_result"
    }
   ],
   "source": [
    "df.columns"
   ]
  },
  {
   "cell_type": "code",
   "execution_count": 13,
   "metadata": {},
   "outputs": [
    {
     "name": "stdout",
     "output_type": "stream",
     "text": [
      "<class 'pandas.core.frame.DataFrame'>\n",
      "Int64Index: 16921 entries, 0 to 4230\n",
      "Data columns (total 10 columns):\n",
      "CITY             16774 non-null object\n",
      "COST             16921 non-null int64\n",
      "CUISINES         16921 non-null object\n",
      "DATA             16921 non-null object\n",
      "LOCALITY         16793 non-null object\n",
      "RATING           16917 non-null object\n",
      "RESTAURANT_ID    16921 non-null int64\n",
      "TIME             16921 non-null object\n",
      "TITLE            16921 non-null object\n",
      "VOTES            15315 non-null object\n",
      "dtypes: int64(2), object(8)\n",
      "memory usage: 1.4+ MB\n"
     ]
    }
   ],
   "source": [
    "df.info()"
   ]
  },
  {
   "cell_type": "code",
   "execution_count": 14,
   "metadata": {},
   "outputs": [
    {
     "data": {
      "text/plain": [
       "CITY              147\n",
       "COST                0\n",
       "CUISINES            0\n",
       "DATA                0\n",
       "LOCALITY          128\n",
       "RATING              4\n",
       "RESTAURANT_ID       0\n",
       "TIME                0\n",
       "TITLE               0\n",
       "VOTES            1606\n",
       "dtype: int64"
      ]
     },
     "execution_count": 14,
     "metadata": {},
     "output_type": "execute_result"
    }
   ],
   "source": [
    "#Checking the null values(if any)\n",
    "df.isnull().sum()"
   ]
  },
  {
   "cell_type": "code",
   "execution_count": 15,
   "metadata": {},
   "outputs": [
    {
     "data": {
      "text/plain": [
       "15574"
      ]
     },
     "execution_count": 15,
     "metadata": {},
     "output_type": "execute_result"
    }
   ],
   "source": [
    "#Checking unique values in ID column\n",
    "df['RESTAURANT_ID'].nunique()"
   ]
  },
  {
   "cell_type": "code",
   "execution_count": 16,
   "metadata": {},
   "outputs": [],
   "source": [
    "#CITY Column"
   ]
  },
  {
   "cell_type": "code",
   "execution_count": 17,
   "metadata": {},
   "outputs": [
    {
     "data": {
      "text/plain": [
       "Chennai         2855\n",
       "Bangalore       2835\n",
       "Hyderabad       2458\n",
       "Mumbai          2311\n",
       "New Delhi       1754\n",
       "Kochi           1751\n",
       "Gurgaon          524\n",
       "Secunderabad     396\n",
       "Noida            274\n",
       "Navi Mumbai      222\n",
       "Name: CITY, dtype: int64"
      ]
     },
     "execution_count": 17,
     "metadata": {},
     "output_type": "execute_result"
    }
   ],
   "source": [
    "df['CITY'].value_counts().head(10)"
   ]
  },
  {
   "cell_type": "code",
   "execution_count": 18,
   "metadata": {},
   "outputs": [
    {
     "data": {
      "text/plain": [
       "Gachibowli                                            216\n",
       "Indiranagar                                           187\n",
       "Kakkanad                                              175\n",
       "Kukatpally                                            171\n",
       "Madhapur                                              169\n",
       "Whitefield                                            164\n",
       "Banjara Hills                                         157\n",
       "Edappally                                             154\n",
       "HSR                                                   149\n",
       "Marathahalli                                          148\n",
       "Jubilee Hills                                         144\n",
       "Fort Kochi                                            138\n",
       "Nungambakkam                                          131\n",
       "BTM                                                   131\n",
       "MG Road                                               127\n",
       "Kaloor                                                123\n",
       "Jayanagar                                             121\n",
       "Andheri West                                          116\n",
       "T. Nagar                                              116\n",
       "Kondapur                                              113\n",
       "JP Nagar                                              106\n",
       "Borivali West                                         105\n",
       "Velachery                                             104\n",
       "Electronic City                                       103\n",
       "Anna Nagar East                                       100\n",
       "Koramangala 5th Block                                 100\n",
       "Connaught Place                                       100\n",
       "Malad West                                             91\n",
       "Thane West                                             89\n",
       "Hitech City                                            87\n",
       "                                                     ... \n",
       "Chinchpokli                                             1\n",
       "Perumbakkam                                             1\n",
       "A yyavoo Colony                                         1\n",
       "Near Focus Hospital Champapet Saroor Nagar              1\n",
       "madhapur                                                1\n",
       "Centre Square Mall                                      1\n",
       "Near Laxmi Industrial Estate off Andheri Link Road      1\n",
       "hsr layout                                              1\n",
       "Domlur Layout                                           1\n",
       "Thane west                                              1\n",
       "J.N Road Anna Nagar West                                1\n",
       "Mahadevpura Post                                        1\n",
       "Shop 5 Plot 2 Village Sahberi Crossing Republik         1\n",
       "Off Brigade Road                                        1\n",
       "80 ft. Road                                             1\n",
       "Opposite Private Bus Stand                              1\n",
       "Telangana 500081                                        1\n",
       "Main Market Chhatarpur                                  1\n",
       "Chocolate Factory Road                                  1\n",
       "Palarivattom Kochi                                      1\n",
       "T.T.K Road                                              1\n",
       "New Hafeezpet                                           1\n",
       "Bhandup West                                            1\n",
       "110009                                                  1\n",
       "Sand Pada                                               1\n",
       "Bhabola naka                                            1\n",
       "Rambaug 4                                               1\n",
       "Chowpatty Bridge                                        1\n",
       "Castle Street                                           1\n",
       "Near Kailash Hospital                                   1\n",
       "Name: LOCALITY, Length: 1636, dtype: int64"
      ]
     },
     "execution_count": 18,
     "metadata": {},
     "output_type": "execute_result"
    }
   ],
   "source": [
    "df['LOCALITY'].value_counts()"
   ]
  },
  {
   "cell_type": "code",
   "execution_count": 19,
   "metadata": {},
   "outputs": [],
   "source": [
    "df['CITY'].fillna('None',inplace=True)"
   ]
  },
  {
   "cell_type": "code",
   "execution_count": 20,
   "metadata": {},
   "outputs": [],
   "source": [
    "df['LOCALITY'].fillna('None',inplace=True)"
   ]
  },
  {
   "cell_type": "code",
   "execution_count": 21,
   "metadata": {},
   "outputs": [],
   "source": [
    "from sklearn.preprocessing import LabelEncoder\n",
    "le=LabelEncoder()"
   ]
  },
  {
   "cell_type": "code",
   "execution_count": 22,
   "metadata": {},
   "outputs": [],
   "source": [
    "df['CITY']=le.fit_transform(df['CITY'])"
   ]
  },
  {
   "cell_type": "code",
   "execution_count": 23,
   "metadata": {},
   "outputs": [],
   "source": [
    "df['LOCALITY']=le.fit_transform(df['LOCALITY'])"
   ]
  },
  {
   "cell_type": "code",
   "execution_count": 24,
   "metadata": {},
   "outputs": [],
   "source": [
    "#RATING Column"
   ]
  },
  {
   "cell_type": "code",
   "execution_count": 25,
   "metadata": {},
   "outputs": [
    {
     "data": {
      "text/plain": [
       "3.9    1643\n",
       "3.8    1604\n",
       "4.0    1498\n",
       "3.7    1437\n",
       "3.6    1261\n",
       "4.1    1217\n",
       "3.5     988\n",
       "4.2     968\n",
       "NEW     930\n",
       "3.4     777\n",
       "4.3     740\n",
       "-       672\n",
       "3.3     485\n",
       "4.4     484\n",
       "3.2     349\n",
       "4.5     274\n",
       "3.1     263\n",
       "2.9     242\n",
       "3.0     229\n",
       "2.8     191\n",
       "4.6     184\n",
       "2.7     129\n",
       "4.7      90\n",
       "2.6      85\n",
       "2.5      51\n",
       "4.8      49\n",
       "4.9      28\n",
       "2.4      24\n",
       "2.3      15\n",
       "2.1       4\n",
       "2.2       4\n",
       "2.0       2\n",
       "Name: RATING, dtype: int64"
      ]
     },
     "execution_count": 25,
     "metadata": {},
     "output_type": "execute_result"
    }
   ],
   "source": [
    "df['RATING'].value_counts()"
   ]
  },
  {
   "cell_type": "code",
   "execution_count": 26,
   "metadata": {},
   "outputs": [],
   "source": [
    "df[\"RATING\"].replace('NEW',1.5,inplace=True)"
   ]
  },
  {
   "cell_type": "code",
   "execution_count": 27,
   "metadata": {},
   "outputs": [],
   "source": [
    "df[\"RATING\"].replace('-',1.0,inplace=True)"
   ]
  },
  {
   "cell_type": "code",
   "execution_count": 28,
   "metadata": {},
   "outputs": [],
   "source": [
    "df[\"RATING\"].fillna(0.5,inplace=True)"
   ]
  },
  {
   "cell_type": "code",
   "execution_count": 29,
   "metadata": {},
   "outputs": [
    {
     "data": {
      "text/plain": [
       "0"
      ]
     },
     "execution_count": 29,
     "metadata": {},
     "output_type": "execute_result"
    }
   ],
   "source": [
    "df['RATING'].isnull().sum()"
   ]
  },
  {
   "cell_type": "code",
   "execution_count": 30,
   "metadata": {},
   "outputs": [],
   "source": [
    "df['RATING']=df['RATING'].astype(float)"
   ]
  },
  {
   "cell_type": "code",
   "execution_count": 31,
   "metadata": {},
   "outputs": [],
   "source": [
    "#VOTES Column"
   ]
  },
  {
   "cell_type": "code",
   "execution_count": 32,
   "metadata": {},
   "outputs": [
    {
     "data": {
      "text/plain": [
       "44 votes       92\n",
       "22 votes       88\n",
       "6 votes        87\n",
       "29 votes       83\n",
       "28 votes       81\n",
       "26 votes       81\n",
       "24 votes       81\n",
       "23 votes       80\n",
       "25 votes       79\n",
       "35 votes       78\n",
       "33 votes       77\n",
       "38 votes       76\n",
       "4 votes        75\n",
       "57 votes       75\n",
       "42 votes       75\n",
       "32 votes       74\n",
       "12 votes       74\n",
       "13 votes       74\n",
       "19 votes       73\n",
       "54 votes       73\n",
       "27 votes       73\n",
       "15 votes       73\n",
       "31 votes       72\n",
       "47 votes       71\n",
       "55 votes       71\n",
       "8 votes        71\n",
       "52 votes       71\n",
       "37 votes       71\n",
       "20 votes       71\n",
       "53 votes       70\n",
       "               ..\n",
       "2157 votes      1\n",
       "14910 votes     1\n",
       "2462 votes      1\n",
       "1961 votes      1\n",
       "4980 votes      1\n",
       "2795 votes      1\n",
       "2246 votes      1\n",
       "1613 votes      1\n",
       "1082 votes      1\n",
       "2474 votes      1\n",
       "3544 votes      1\n",
       "852 votes       1\n",
       "2535 votes      1\n",
       "794 votes       1\n",
       "3369 votes      1\n",
       "3708 votes      1\n",
       "1829 votes      1\n",
       "5724 votes      1\n",
       "2944 votes      1\n",
       "4603 votes      1\n",
       "2337 votes      1\n",
       "1575 votes      1\n",
       "1633 votes      1\n",
       "1515 votes      1\n",
       "890 votes       1\n",
       "1323 votes      1\n",
       "2807 votes      1\n",
       "5372 votes      1\n",
       "1261 votes      1\n",
       "1402 votes      1\n",
       "Name: VOTES, Length: 2075, dtype: int64"
      ]
     },
     "execution_count": 32,
     "metadata": {},
     "output_type": "execute_result"
    }
   ],
   "source": [
    "df['VOTES'].value_counts()"
   ]
  },
  {
   "cell_type": "code",
   "execution_count": 33,
   "metadata": {},
   "outputs": [
    {
     "data": {
      "text/plain": [
       "1606"
      ]
     },
     "execution_count": 33,
     "metadata": {},
     "output_type": "execute_result"
    }
   ],
   "source": [
    "df['VOTES'].isnull().sum()"
   ]
  },
  {
   "cell_type": "code",
   "execution_count": 34,
   "metadata": {},
   "outputs": [
    {
     "data": {
      "text/plain": [
       "array(['49 votes', '30 votes', '221 votes', ..., '2159 votes',\n",
       "       '3807 votes', '1913 votes'], dtype=object)"
      ]
     },
     "execution_count": 34,
     "metadata": {},
     "output_type": "execute_result"
    }
   ],
   "source": [
    "df['VOTES'].unique()"
   ]
  },
  {
   "cell_type": "code",
   "execution_count": 35,
   "metadata": {},
   "outputs": [],
   "source": [
    "df['VOTES'].fillna('0',inplace=True)"
   ]
  },
  {
   "cell_type": "code",
   "execution_count": 36,
   "metadata": {},
   "outputs": [],
   "source": [
    "df['VOTES']=df['VOTES'].str.split(' ').str[0].astype(int)"
   ]
  },
  {
   "cell_type": "code",
   "execution_count": 37,
   "metadata": {},
   "outputs": [
    {
     "data": {
      "image/png": "[encoded data removed]",
      "text/plain": [
       "<Figure size 432x288 with 1 Axes>"
      ]
     },
     "metadata": {
      "needs_background": "light"
     },
     "output_type": "display_data"
    }
   ],
   "source": [
    "sns.distplot(df['VOTES'])\n",
    "plt.show()"
   ]
  },
  {
   "cell_type": "code",
   "execution_count": 38,
   "metadata": {},
   "outputs": [],
   "source": [
    "\n",
    "df['VOTES']=df['VOTES']+5\n",
    "from scipy.stats import boxcox\n",
    "df['VOTES']=boxcox(df['VOTES'],0)\n"
   ]
  },
  {
   "cell_type": "code",
   "execution_count": 39,
   "metadata": {},
   "outputs": [],
   "source": [
    "#CUISINES Column"
   ]
  },
  {
   "cell_type": "code",
   "execution_count": 40,
   "metadata": {},
   "outputs": [
    {
     "data": {
      "text/plain": [
       "5183"
      ]
     },
     "execution_count": 40,
     "metadata": {},
     "output_type": "execute_result"
    }
   ],
   "source": [
    "df['CUISINES'].nunique()"
   ]
  },
  {
   "cell_type": "code",
   "execution_count": 41,
   "metadata": {},
   "outputs": [],
   "source": [
    "df['CUISINES1']=df['CUISINES'].str.split(',').str[0]\n",
    "df['CUISINES2']=df['CUISINES'].str.split(',').str[1]\n",
    "df['CUISINES3']=df['CUISINES'].str.split(',').str[2]\n",
    "df['CUISINES4']=df['CUISINES'].str.split(',').str[3]\n",
    "df['CUISINES5']=df['CUISINES'].str.split(',').str[4]"
   ]
  },
  {
   "cell_type": "code",
   "execution_count": 42,
   "metadata": {},
   "outputs": [
    {
     "data": {
      "text/plain": [
       "CITY                 0\n",
       "COST                 0\n",
       "CUISINES             0\n",
       "DATA                 0\n",
       "LOCALITY             0\n",
       "RATING               0\n",
       "RESTAURANT_ID        0\n",
       "TIME                 0\n",
       "TITLE                0\n",
       "VOTES                0\n",
       "CUISINES1            0\n",
       "CUISINES2         4047\n",
       "CUISINES3         9330\n",
       "CUISINES4        13309\n",
       "CUISINES5        15550\n",
       "dtype: int64"
      ]
     },
     "execution_count": 42,
     "metadata": {},
     "output_type": "execute_result"
    }
   ],
   "source": [
    "df.isnull().sum()"
   ]
  },
  {
   "cell_type": "code",
   "execution_count": 43,
   "metadata": {},
   "outputs": [],
   "source": [
    "df['CUISINES2'].fillna('None',inplace=True)\n",
    "df['CUISINES3'].fillna('None',inplace=True)\n",
    "df['CUISINES4'].fillna('None',inplace=True)\n",
    "df['CUISINES5'].fillna('None',inplace=True)"
   ]
  },
  {
   "cell_type": "code",
   "execution_count": 44,
   "metadata": {},
   "outputs": [],
   "source": [
    "df['CUISINES1']=le.fit_transform(df['CUISINES1'])\n",
    "df['CUISINES2']=le.fit_transform(df['CUISINES2'])\n",
    "df['CUISINES3']=le.fit_transform(df['CUISINES3'])\n",
    "df['CUISINES4']=le.fit_transform(df['CUISINES4'])\n",
    "df['CUISINES5']=le.fit_transform(df['CUISINES5'])"
   ]
  },
  {
   "cell_type": "code",
   "execution_count": 45,
   "metadata": {},
   "outputs": [],
   "source": [
    "df.drop(['CUISINES'],axis=1,inplace=True)"
   ]
  },
  {
   "cell_type": "code",
   "execution_count": 46,
   "metadata": {},
   "outputs": [],
   "source": [
    "#TITLE Column"
   ]
  },
  {
   "cell_type": "code",
   "execution_count": 47,
   "metadata": {},
   "outputs": [
    {
     "data": {
      "text/plain": [
       "array(['CASUAL DINING', 'CASUAL DINING,BAR', 'QUICK BITES',\n",
       "       'DESSERT PARLOR', 'CAFÉ', 'MICROBREWERY',\n",
       "       'QUICK BITES,BEVERAGE SHOP', 'CASUAL DINING,IRANI CAFE',\n",
       "       'BAKERY,QUICK BITES', 'None', 'BAR,CASUAL DINING', 'BAR', 'PUB',\n",
       "       'BEVERAGE SHOP', 'FINE DINING', 'CAFÉ,QUICK BITES',\n",
       "       'BEVERAGE SHOP,DESSERT PARLOR', 'SWEET SHOP,QUICK BITES',\n",
       "       'DESSERT PARLOR,SWEET SHOP', 'BAKERY', 'BAKERY,DESSERT PARLOR',\n",
       "       'BAR,LOUNGE', 'FOOD COURT', 'LOUNGE',\n",
       "       'DESSERT PARLOR,BEVERAGE SHOP', 'LOUNGE,CASUAL DINING',\n",
       "       'FOOD TRUCK', 'QUICK BITES,FOOD COURT', 'SWEET SHOP',\n",
       "       'BEVERAGE SHOP,FOOD COURT', 'PUB,CASUAL DINING', 'MESS',\n",
       "       'MICROBREWERY,CASUAL DINING', 'CASUAL DINING,SWEET SHOP', 'KIOSK',\n",
       "       'QUICK BITES,KIOSK', 'CLUB', 'FINE DINING,BAR',\n",
       "       'DESSERT PARLOR,QUICK BITES', 'FOOD COURT,QUICK BITES',\n",
       "       'LOUNGE,CAFÉ', 'BAKERY,CONFECTIONERY', 'CASUAL DINING,CAFÉ',\n",
       "       'DHABA', 'CAFÉ,DESSERT PARLOR', 'QUICK BITES,DESSERT PARLOR',\n",
       "       'PUB,MICROBREWERY', 'LOUNGE,BAR', 'DESSERT PARLOR,CAFÉ',\n",
       "       'CAFÉ,BAR', 'SWEET SHOP,CONFECTIONERY', 'CASUAL DINING,PUB',\n",
       "       'MICROBREWERY,BAR', 'DESSERT PARLOR,BAKERY',\n",
       "       'QUICK BITES,SWEET SHOP', 'BEVERAGE SHOP,QUICK BITES',\n",
       "       'CASUAL DINING,LOUNGE', 'CASUAL DINING,CLUB', 'QUICK BITES,CAFÉ',\n",
       "       'BAR,CAFÉ', 'CAFÉ,CASUAL DINING', 'QUICK BITES,CASUAL DINING',\n",
       "       'CASUAL DINING,MICROBREWERY', 'CASUAL DINING,BAKERY',\n",
       "       'CAFÉ,BAKERY', 'MEAT SHOP', 'QUICK BITES,BAKERY',\n",
       "       'BAR,FINE DINING', 'SWEET SHOP,CASUAL DINING',\n",
       "       'MEAT SHOP,QUICK BITES', 'PUB,LOUNGE', 'BAKERY,CAFÉ',\n",
       "       'COCKTAIL BAR', 'FINE DINING,LOUNGE', 'CONFECTIONERY',\n",
       "       'QUICK BITES,BAR', 'BAKERY,FOOD COURT', 'PUB,BAR',\n",
       "       'DESSERT PARLOR,FOOD COURT', 'QUICK BITES,FOOD TRUCK',\n",
       "       'BAKERY,BEVERAGE SHOP', 'CLUB,BAR', 'BAKERY,SWEET SHOP',\n",
       "       'SWEET SHOP,BAKERY', 'CASUAL DINING,FOOD COURT', 'PAAN SHOP',\n",
       "       'BEVERAGE SHOP,CAFÉ', 'FOOD COURT,DESSERT PARLOR',\n",
       "       'CLUB,MICROBREWERY', 'CAFÉ,BEVERAGE SHOP',\n",
       "       'DESSERT PARLOR,PAAN SHOP', 'MICROBREWERY,LOUNGE', 'LOUNGE,CLUB',\n",
       "       'SWEET SHOP,DESSERT PARLOR', 'BAR,PUB',\n",
       "       'CONFECTIONERY,QUICK BITES', 'DESSERT PARLOR,KIOSK', 'LOUNGE,PUB',\n",
       "       'SWEET SHOP,BEVERAGE SHOP', 'FINE DINING,CAFÉ',\n",
       "       'BEVERAGE SHOP,CASUAL DINING', 'KIOSK,QUICK BITES',\n",
       "       'CASUAL DINING,DESSERT PARLOR', 'LOUNGE,FINE DINING', 'PUB,CAFÉ',\n",
       "       'CAFÉ,LOUNGE', 'BAR,CLUB', 'COCKTAIL BAR,CASUAL DINING',\n",
       "       'MICROBREWERY,PUB', 'CAFÉ,FINE DINING', 'KIOSK,FOOD COURT',\n",
       "       'LOUNGE,MICROBREWERY', 'BAR,MICROBREWERY',\n",
       "       'FOOD TRUCK,DESSERT PARLOR', 'IRANI CAFE,BAKERY',\n",
       "       'BAKERY,CASUAL DINING', 'PUB,FINE DINING', 'CAFÉ,FOOD COURT',\n",
       "       'FINE DINING,MICROBREWERY', 'CLUB,FINE DINING',\n",
       "       'QUICK BITES,MEAT SHOP', 'CLUB,CASUAL DINING', 'BHOJANALYA'],\n",
       "      dtype=object)"
      ]
     },
     "execution_count": 47,
     "metadata": {},
     "output_type": "execute_result"
    }
   ],
   "source": [
    "df['TITLE'].unique()"
   ]
  },
  {
   "cell_type": "code",
   "execution_count": 48,
   "metadata": {},
   "outputs": [
    {
     "data": {
      "text/plain": [
       "QUICK BITES                     5634\n",
       "CASUAL DINING                   4910\n",
       "None                            1287\n",
       "CAFÉ                             830\n",
       "DESSERT PARLOR                   508\n",
       "CASUAL DINING,BAR                463\n",
       "FINE DINING                      406\n",
       "BAKERY                           392\n",
       "BEVERAGE SHOP                    216\n",
       "BAR,CASUAL DINING                175\n",
       "LOUNGE                           136\n",
       "BAKERY,QUICK BITES               126\n",
       "BAR                              124\n",
       "FOOD COURT                       110\n",
       "KIOSK                             73\n",
       "SWEET SHOP,QUICK BITES            70\n",
       "MESS                              68\n",
       "PUB                               67\n",
       "SWEET SHOP                        67\n",
       "CASUAL DINING,CAFÉ                65\n",
       "DHABA                             61\n",
       "BAKERY,DESSERT PARLOR             61\n",
       "DESSERT PARLOR,QUICK BITES        57\n",
       "QUICK BITES,SWEET SHOP            49\n",
       "CAFÉ,CASUAL DINING                47\n",
       "BEVERAGE SHOP,QUICK BITES         45\n",
       "CAFÉ,BAKERY                       43\n",
       "PUB,CASUAL DINING                 42\n",
       "CAFÉ,DESSERT PARLOR               38\n",
       "FOOD TRUCK                        37\n",
       "                                ... \n",
       "LOUNGE,MICROBREWERY                2\n",
       "CLUB,CASUAL DINING                 2\n",
       "BAKERY,FOOD COURT                  1\n",
       "SWEET SHOP,CONFECTIONERY           1\n",
       "PUB,FINE DINING                    1\n",
       "DESSERT PARLOR,PAAN SHOP           1\n",
       "MICROBREWERY,LOUNGE                1\n",
       "CAFÉ,FOOD COURT                    1\n",
       "MEAT SHOP                          1\n",
       "BAR,CLUB                           1\n",
       "BAKERY,CONFECTIONERY               1\n",
       "IRANI CAFE,BAKERY                  1\n",
       "QUICK BITES,FOOD TRUCK             1\n",
       "KIOSK,FOOD COURT                   1\n",
       "DESSERT PARLOR,KIOSK               1\n",
       "CAFÉ,FINE DINING                   1\n",
       "FINE DINING,MICROBREWERY           1\n",
       "QUICK BITES,MEAT SHOP              1\n",
       "SWEET SHOP,BEVERAGE SHOP           1\n",
       "CLUB,MICROBREWERY                  1\n",
       "CASUAL DINING,DESSERT PARLOR       1\n",
       "BHOJANALYA                         1\n",
       "BEVERAGE SHOP,CASUAL DINING        1\n",
       "FOOD TRUCK,DESSERT PARLOR          1\n",
       "BAKERY,CASUAL DINING               1\n",
       "BEVERAGE SHOP,FOOD COURT           1\n",
       "BAR,MICROBREWERY                   1\n",
       "CONFECTIONERY,QUICK BITES          1\n",
       "QUICK BITES,BAR                    1\n",
       "CLUB,FINE DINING                   1\n",
       "Name: TITLE, Length: 123, dtype: int64"
      ]
     },
     "execution_count": 48,
     "metadata": {},
     "output_type": "execute_result"
    }
   ],
   "source": [
    "df['TITLE'].value_counts()"
   ]
  },
  {
   "cell_type": "code",
   "execution_count": 49,
   "metadata": {},
   "outputs": [],
   "source": [
    "df['TITLE1']=df['TITLE'].str.split(',').str[0]\n",
    "df['TITLE2']=df['TITLE'].str.split(',').str[1]\n"
   ]
  },
  {
   "cell_type": "code",
   "execution_count": 50,
   "metadata": {},
   "outputs": [
    {
     "data": {
      "text/plain": [
       "CITY                 0\n",
       "COST                 0\n",
       "DATA                 0\n",
       "LOCALITY             0\n",
       "RATING               0\n",
       "RESTAURANT_ID        0\n",
       "TIME                 0\n",
       "TITLE                0\n",
       "VOTES                0\n",
       "CUISINES1            0\n",
       "CUISINES2            0\n",
       "CUISINES3            0\n",
       "CUISINES4            0\n",
       "CUISINES5            0\n",
       "TITLE1               0\n",
       "TITLE2           14977\n",
       "dtype: int64"
      ]
     },
     "execution_count": 50,
     "metadata": {},
     "output_type": "execute_result"
    }
   ],
   "source": [
    "df.isnull().sum()"
   ]
  },
  {
   "cell_type": "code",
   "execution_count": 51,
   "metadata": {},
   "outputs": [],
   "source": [
    "df.fillna('None',inplace=True)"
   ]
  },
  {
   "cell_type": "code",
   "execution_count": 52,
   "metadata": {},
   "outputs": [],
   "source": [
    "df['TITLE1']=le.fit_transform(df['TITLE1'])\n",
    "df['TITLE2']=le.fit_transform(df['TITLE1'])"
   ]
  },
  {
   "cell_type": "code",
   "execution_count": 53,
   "metadata": {},
   "outputs": [],
   "source": [
    "df.drop(['TITLE'],axis=1,inplace=True)"
   ]
  },
  {
   "cell_type": "code",
   "execution_count": 54,
   "metadata": {},
   "outputs": [
    {
     "name": "stdout",
     "output_type": "stream",
     "text": [
      "<class 'pandas.core.frame.DataFrame'>\n",
      "Int64Index: 16921 entries, 0 to 4230\n",
      "Data columns (total 15 columns):\n",
      "CITY             16921 non-null int32\n",
      "COST             16921 non-null int64\n",
      "DATA             16921 non-null object\n",
      "LOCALITY         16921 non-null int32\n",
      "RATING           16921 non-null float64\n",
      "RESTAURANT_ID    16921 non-null int64\n",
      "TIME             16921 non-null object\n",
      "VOTES            16921 non-null float64\n",
      "CUISINES1        16921 non-null int32\n",
      "CUISINES2        16921 non-null int32\n",
      "CUISINES3        16921 non-null int32\n",
      "CUISINES4        16921 non-null int32\n",
      "CUISINES5        16921 non-null int32\n",
      "TITLE1           16921 non-null int32\n",
      "TITLE2           16921 non-null int64\n",
      "dtypes: float64(2), int32(8), int64(3), object(2)\n",
      "memory usage: 1.5+ MB\n"
     ]
    }
   ],
   "source": [
    "df.info()"
   ]
  },
  {
   "cell_type": "code",
   "execution_count": 55,
   "metadata": {},
   "outputs": [],
   "source": [
    "df.drop(['TIME'],axis=1,inplace=True)"
   ]
  },
  {
   "cell_type": "code",
   "execution_count": 56,
   "metadata": {},
   "outputs": [],
   "source": [
    "df.drop(['RESTAURANT_ID'],axis=1,inplace=True)"
   ]
  },
  {
   "cell_type": "code",
   "execution_count": 57,
   "metadata": {},
   "outputs": [
    {
     "data": {
      "text/html": [
       "<div>\n",
       "<style scoped>\n",
       "    .dataframe tbody tr th:only-of-type {\n",
       "        vertical-align: middle;\n",
       "    }\n",
       "\n",
       "    .dataframe tbody tr th {\n",
       "        vertical-align: top;\n",
       "    }\n",
       "\n",
       "    .dataframe thead th {\n",
       "        text-align: right;\n",
       "    }\n",
       "</style>\n",
       "<table border=\"1\" class=\"dataframe\">\n",
       "  <thead>\n",
       "    <tr style=\"text-align: right;\">\n",
       "      <th></th>\n",
       "      <th>CITY</th>\n",
       "      <th>COST</th>\n",
       "      <th>LOCALITY</th>\n",
       "      <th>RATING</th>\n",
       "      <th>VOTES</th>\n",
       "      <th>CUISINES1</th>\n",
       "      <th>CUISINES2</th>\n",
       "      <th>CUISINES3</th>\n",
       "      <th>CUISINES4</th>\n",
       "      <th>CUISINES5</th>\n",
       "      <th>TITLE1</th>\n",
       "      <th>TITLE2</th>\n",
       "    </tr>\n",
       "  </thead>\n",
       "  <tbody>\n",
       "    <tr>\n",
       "      <th>0</th>\n",
       "      <td>401</td>\n",
       "      <td>1200</td>\n",
       "      <td>328</td>\n",
       "      <td>3.6</td>\n",
       "      <td>3.988984</td>\n",
       "      <td>61</td>\n",
       "      <td>32</td>\n",
       "      <td>71</td>\n",
       "      <td>89</td>\n",
       "      <td>83</td>\n",
       "      <td>5</td>\n",
       "      <td>5</td>\n",
       "    </tr>\n",
       "    <tr>\n",
       "      <th>1</th>\n",
       "      <td>75</td>\n",
       "      <td>1500</td>\n",
       "      <td>1215</td>\n",
       "      <td>4.2</td>\n",
       "      <td>3.555348</td>\n",
       "      <td>6</td>\n",
       "      <td>62</td>\n",
       "      <td>45</td>\n",
       "      <td>89</td>\n",
       "      <td>83</td>\n",
       "      <td>5</td>\n",
       "      <td>5</td>\n",
       "    </tr>\n",
       "    <tr>\n",
       "      <th>2</th>\n",
       "      <td>75</td>\n",
       "      <td>800</td>\n",
       "      <td>1273</td>\n",
       "      <td>3.8</td>\n",
       "      <td>5.420535</td>\n",
       "      <td>74</td>\n",
       "      <td>23</td>\n",
       "      <td>14</td>\n",
       "      <td>34</td>\n",
       "      <td>83</td>\n",
       "      <td>5</td>\n",
       "      <td>5</td>\n",
       "    </tr>\n",
       "    <tr>\n",
       "      <th>3</th>\n",
       "      <td>277</td>\n",
       "      <td>800</td>\n",
       "      <td>161</td>\n",
       "      <td>4.1</td>\n",
       "      <td>3.367296</td>\n",
       "      <td>102</td>\n",
       "      <td>23</td>\n",
       "      <td>100</td>\n",
       "      <td>89</td>\n",
       "      <td>83</td>\n",
       "      <td>23</td>\n",
       "      <td>23</td>\n",
       "    </tr>\n",
       "    <tr>\n",
       "      <th>4</th>\n",
       "      <td>277</td>\n",
       "      <td>300</td>\n",
       "      <td>709</td>\n",
       "      <td>3.8</td>\n",
       "      <td>5.135798</td>\n",
       "      <td>30</td>\n",
       "      <td>100</td>\n",
       "      <td>100</td>\n",
       "      <td>89</td>\n",
       "      <td>83</td>\n",
       "      <td>9</td>\n",
       "      <td>9</td>\n",
       "    </tr>\n",
       "  </tbody>\n",
       "</table>\n",
       "</div>"
      ],
      "text/plain": [
       "   CITY  COST  LOCALITY  RATING     VOTES  CUISINES1  CUISINES2  CUISINES3  \\\n",
       "0   401  1200       328     3.6  3.988984         61         32         71   \n",
       "1    75  1500      1215     4.2  3.555348          6         62         45   \n",
       "2    75   800      1273     3.8  5.420535         74         23         14   \n",
       "3   277   800       161     4.1  3.367296        102         23        100   \n",
       "4   277   300       709     3.8  5.135798         30        100        100   \n",
       "\n",
       "   CUISINES4  CUISINES5  TITLE1  TITLE2  \n",
       "0         89         83       5       5  \n",
       "1         89         83       5       5  \n",
       "2         34         83       5       5  \n",
       "3         89         83      23      23  \n",
       "4         89         83       9       9  "
      ]
     },
     "execution_count": 57,
     "metadata": {},
     "output_type": "execute_result"
    }
   ],
   "source": [
    "Trainfinal=df.loc[df['DATA']=='train']\n",
    "Trainfinal.drop(['DATA'],axis=1,inplace=True)\n",
    "Trainfinal.head()"
   ]
  },
  {
   "cell_type": "code",
   "execution_count": 58,
   "metadata": {},
   "outputs": [
    {
     "data": {
      "image/png": "[encoded data removed]",
      "text/plain": [
       "<Figure size 432x288 with 1 Axes>"
      ]
     },
     "metadata": {
      "needs_background": "light"
     },
     "output_type": "display_data"
    }
   ],
   "source": [
    "sns.distplot(Trainfinal['COST'])\n",
    "plt.show()"
   ]
  },
  {
   "cell_type": "code",
   "execution_count": 59,
   "metadata": {},
   "outputs": [],
   "source": [
    "Trainfinal['COST']=boxcox(Trainfinal['COST'],0)"
   ]
  },
  {
   "cell_type": "code",
   "execution_count": 60,
   "metadata": {},
   "outputs": [],
   "source": [
    "Testfinal=df.loc[df['DATA']=='test']\n",
    "Testfinal.drop(['COST'],axis=1,inplace=True)\n",
    "Testfinal.drop(['DATA'],axis=1,inplace=True)\n"
   ]
  },
  {
   "cell_type": "code",
   "execution_count": 61,
   "metadata": {},
   "outputs": [],
   "source": [
    "#separating independent and dependent variables\n",
    "df_x=Trainfinal.drop(['COST'],axis=1)\n",
    "y=Trainfinal['COST']"
   ]
  },
  {
   "cell_type": "code",
   "execution_count": 62,
   "metadata": {},
   "outputs": [],
   "source": [
    "#Scaling the data using StandardScaler\n",
    "sc=StandardScaler()\n",
    "sc.fit(df_x)\n",
    "df_x=sc.transform(df_x)"
   ]
  },
  {
   "cell_type": "code",
   "execution_count": 63,
   "metadata": {},
   "outputs": [],
   "source": [
    "x_train,x_test,y_train,y_test=train_test_split(df_x,y,test_size=0.25,random_state=42)"
   ]
  },
  {
   "cell_type": "code",
   "execution_count": 64,
   "metadata": {},
   "outputs": [
    {
     "name": "stdout",
     "output_type": "stream",
     "text": [
      "(9517, 11) (3173, 11)\n",
      "(9517,) (3173,)\n"
     ]
    }
   ],
   "source": [
    "print(x_train.shape,x_test.shape)\n",
    "print(y_train.shape,y_test.shape)"
   ]
  },
  {
   "cell_type": "code",
   "execution_count": 65,
   "metadata": {},
   "outputs": [],
   "source": [
    "LR=LinearRegression()\n",
    "LA=Lasso()\n",
    "RI=Ridge()\n",
    "EN=ElasticNet()\n",
    "KNR=KNeighborsRegressor()\n",
    "DTR=DecisionTreeRegressor(random_state=42)\n",
    "ABR=AdaBoostRegressor(random_state=42)\n",
    "RFR=RandomForestRegressor(random_state=42)\n",
    "GBR=GradientBoostingRegressor(random_state=42)\n",
    "XGR=XGBRegressor(random_state=42)"
   ]
  },
  {
   "cell_type": "code",
   "execution_count": 66,
   "metadata": {},
   "outputs": [],
   "source": [
    "models=[]\n",
    "models.append(('LinearRegression',LR))\n",
    "models.append(('Lasso',LA))\n",
    "models.append(('Ridge',RI))\n",
    "models.append(('ElasticNet',EN))\n",
    "models.append(('DecisionTreeRegressor',DTR))\n",
    "models.append(('KNeighborsRegressor',KNR))\n",
    "models.append(('AdaBoostRegressor',ABR))\n",
    "models.append(('RandomForestRegressor',RFR))\n",
    "models.append(('GradientBoostingRegressor',GBR))\n",
    "models.append(('XGBRegressor',XGR))"
   ]
  },
  {
   "cell_type": "code",
   "execution_count": 67,
   "metadata": {},
   "outputs": [
    {
     "name": "stdout",
     "output_type": "stream",
     "text": [
      "********************************* LinearRegression *********************************\n",
      "\n",
      " LinearRegression(copy_X=True, fit_intercept=True, n_jobs=None, normalize=False)\n",
      "R2_score =  0.3281000188698966\n",
      "Mean_Squared_Error = 0.34416792824121495\n",
      "Mean_Absolute_Error = 0.4418468861766965\n",
      "Cross_Val_Score =  0.3337626563557965\n",
      "\n",
      "\n",
      "********************************* Lasso *********************************\n",
      "\n",
      " Lasso(alpha=1.0, copy_X=True, fit_intercept=True, max_iter=1000,\n",
      "      normalize=False, positive=False, precompute=False, random_state=None,\n",
      "      selection='cyclic', tol=0.0001, warm_start=False)\n",
      "R2_score =  -0.000538677192244208\n",
      "Mean_Squared_Error = 0.5125068214398142\n",
      "Mean_Absolute_Error = 0.5644596052751033\n",
      "Cross_Val_Score =  -0.000917289212167427\n",
      "\n",
      "\n",
      "********************************* Ridge *********************************\n",
      "\n",
      " Ridge(alpha=1.0, copy_X=True, fit_intercept=True, max_iter=None,\n",
      "      normalize=False, random_state=None, solver='auto', tol=0.001)\n",
      "R2_score =  0.32810040669038176\n",
      "Mean_Squared_Error = 0.344167729587581\n",
      "Mean_Absolute_Error = 0.4418465214932056\n",
      "Cross_Val_Score =  0.33376277037946706\n",
      "\n",
      "\n",
      "********************************* ElasticNet *********************************\n",
      "\n",
      " ElasticNet(alpha=1.0, copy_X=True, fit_intercept=True, l1_ratio=0.5,\n",
      "           max_iter=1000, normalize=False, positive=False, precompute=False,\n",
      "           random_state=None, selection='cyclic', tol=0.0001, warm_start=False)\n",
      "R2_score =  -0.000538677192244208\n",
      "Mean_Squared_Error = 0.5125068214398142\n",
      "Mean_Absolute_Error = 0.5644596052751033\n",
      "Cross_Val_Score =  -0.000917289212167427\n",
      "\n",
      "\n",
      "********************************* DecisionTreeRegressor *********************************\n",
      "\n",
      " DecisionTreeRegressor(criterion='mse', max_depth=None, max_features=None,\n",
      "                      max_leaf_nodes=None, min_impurity_decrease=0.0,\n",
      "                      min_impurity_split=None, min_samples_leaf=1,\n",
      "                      min_samples_split=2, min_weight_fraction_leaf=0.0,\n",
      "                      presort=False, random_state=42, splitter='best')\n",
      "R2_score =  0.41871065175047795\n",
      "Mean_Squared_Error = 0.2977543627240931\n",
      "Mean_Absolute_Error = 0.4139685661719691\n",
      "Cross_Val_Score =  0.4287906170912816\n",
      "\n",
      "\n",
      "********************************* KNeighborsRegressor *********************************\n",
      "\n",
      " KNeighborsRegressor(algorithm='auto', leaf_size=30, metric='minkowski',\n",
      "                    metric_params=None, n_jobs=None, n_neighbors=5, p=2,\n",
      "                    weights='uniform')\n",
      "R2_score =  0.4416788764129683\n",
      "Mean_Squared_Error = 0.28598932846382663\n",
      "Mean_Absolute_Error = 0.39947947718319254\n",
      "Cross_Val_Score =  0.4611783706602792\n",
      "\n",
      "\n",
      "********************************* AdaBoostRegressor *********************************\n",
      "\n",
      " AdaBoostRegressor(base_estimator=None, learning_rate=1.0, loss='linear',\n",
      "                  n_estimators=50, random_state=42)\n",
      "R2_score =  0.4890278213264039\n",
      "Mean_Squared_Error = 0.26173573606476824\n",
      "Mean_Absolute_Error = 0.3954225932528431\n",
      "Cross_Val_Score =  0.4764618466412542\n",
      "\n",
      "\n",
      "********************************* RandomForestRegressor *********************************\n",
      "\n",
      " RandomForestRegressor(bootstrap=True, criterion='mse', max_depth=None,\n",
      "                      max_features='auto', max_leaf_nodes=None,\n",
      "                      min_impurity_decrease=0.0, min_impurity_split=None,\n",
      "                      min_samples_leaf=1, min_samples_split=2,\n",
      "                      min_weight_fraction_leaf=0.0, n_estimators='warn',\n",
      "                      n_jobs=None, oob_score=False, random_state=42, verbose=0,\n",
      "                      warm_start=False)\n",
      "R2_score =  0.664910861353831\n",
      "Mean_Squared_Error = 0.17164300917230402\n",
      "Mean_Absolute_Error = 0.31781505451767\n",
      "Cross_Val_Score =  0.6714441143449966\n",
      "\n",
      "\n",
      "********************************* GradientBoostingRegressor *********************************\n",
      "\n",
      " GradientBoostingRegressor(alpha=0.9, criterion='friedman_mse', init=None,\n",
      "                          learning_rate=0.1, loss='ls', max_depth=3,\n",
      "                          max_features=None, max_leaf_nodes=None,\n",
      "                          min_impurity_decrease=0.0, min_impurity_split=None,\n",
      "                          min_samples_leaf=1, min_samples_split=2,\n",
      "                          min_weight_fraction_leaf=0.0, n_estimators=100,\n",
      "                          n_iter_no_change=None, presort='auto',\n",
      "                          random_state=42, subsample=1.0, tol=0.0001,\n",
      "                          validation_fraction=0.1, verbose=0, warm_start=False)\n",
      "R2_score =  0.6665045874308138\n",
      "Mean_Squared_Error = 0.17082665343855835\n",
      "Mean_Absolute_Error = 0.3177786818667824\n",
      "Cross_Val_Score =  0.6793528119583583\n",
      "\n",
      "\n",
      "********************************* XGBRegressor *********************************\n",
      "\n",
      " XGBRegressor(base_score=None, booster=None, colsample_bylevel=None,\n",
      "             colsample_bynode=None, colsample_bytree=None, gamma=None,\n",
      "             gpu_id=None, importance_type='gain', interaction_constraints=None,\n",
      "             learning_rate=None, max_delta_step=None, max_depth=None,\n",
      "             min_child_weight=None, missing=nan, monotone_constraints=None,\n",
      "             n_estimators=100, n_jobs=None, num_parallel_tree=None,\n",
      "             objective='reg:squarederror', random_state=42, reg_alpha=None,\n",
      "             reg_lambda=None, scale_pos_weight=None, subsample=None,\n",
      "             tree_method=None, validate_parameters=False, verbosity=None)\n",
      "R2_score =  0.713754951148247\n",
      "Mean_Squared_Error = 0.14662355737369334\n",
      "Mean_Absolute_Error = 0.29552812617640933\n",
      "Cross_Val_Score =  0.7232720450465947\n",
      "\n",
      "\n"
     ]
    }
   ],
   "source": [
    "Model=[]\n",
    "R2_score=[]\n",
    "cvs=[]\n",
    "MSE=[]\n",
    "MAE=[]\n",
    "for name,model in models:\n",
    "    print('*********************************',name,'*********************************')\n",
    "    print('\\n',model)\n",
    "    Model.append(name)\n",
    "    model.fit(x_train,y_train)\n",
    "    pre=model.predict(x_test)\n",
    "    r2=r2_score(y_test,pre)\n",
    "    print('R2_score = ',r2)\n",
    "    R2_score.append(r2)\n",
    "    mse=mean_squared_error(y_test,pre)\n",
    "    print(\"Mean_Squared_Error =\",mse)\n",
    "    MSE.append(round(mse,3))\n",
    "    mae=mean_absolute_error(y_test,pre)\n",
    "    print(\"Mean_Absolute_Error =\",mae)\n",
    "    MAE.append(round(mae,3))\n",
    "    score= cross_val_score(model,df_x,y,cv=10,scoring='r2').mean()\n",
    "    print('Cross_Val_Score = ',score)\n",
    "    cvs.append(round(score,3))\n",
    "    print('\\n')"
   ]
  },
  {
   "cell_type": "code",
   "execution_count": 68,
   "metadata": {},
   "outputs": [
    {
     "data": {
      "text/html": [
       "<div>\n",
       "<style scoped>\n",
       "    .dataframe tbody tr th:only-of-type {\n",
       "        vertical-align: middle;\n",
       "    }\n",
       "\n",
       "    .dataframe tbody tr th {\n",
       "        vertical-align: top;\n",
       "    }\n",
       "\n",
       "    .dataframe thead th {\n",
       "        text-align: right;\n",
       "    }\n",
       "</style>\n",
       "<table border=\"1\" class=\"dataframe\">\n",
       "  <thead>\n",
       "    <tr style=\"text-align: right;\">\n",
       "      <th></th>\n",
       "      <th>Model</th>\n",
       "      <th>R2_score</th>\n",
       "      <th>Mean_Squared_Error</th>\n",
       "      <th>Mean_Absolute_Error</th>\n",
       "      <th>Cross_val_score</th>\n",
       "    </tr>\n",
       "  </thead>\n",
       "  <tbody>\n",
       "    <tr>\n",
       "      <th>0</th>\n",
       "      <td>LinearRegression</td>\n",
       "      <td>0.328100</td>\n",
       "      <td>0.344</td>\n",
       "      <td>0.442</td>\n",
       "      <td>0.334</td>\n",
       "    </tr>\n",
       "    <tr>\n",
       "      <th>1</th>\n",
       "      <td>Lasso</td>\n",
       "      <td>-0.000539</td>\n",
       "      <td>0.513</td>\n",
       "      <td>0.564</td>\n",
       "      <td>-0.001</td>\n",
       "    </tr>\n",
       "    <tr>\n",
       "      <th>2</th>\n",
       "      <td>Ridge</td>\n",
       "      <td>0.328100</td>\n",
       "      <td>0.344</td>\n",
       "      <td>0.442</td>\n",
       "      <td>0.334</td>\n",
       "    </tr>\n",
       "    <tr>\n",
       "      <th>3</th>\n",
       "      <td>ElasticNet</td>\n",
       "      <td>-0.000539</td>\n",
       "      <td>0.513</td>\n",
       "      <td>0.564</td>\n",
       "      <td>-0.001</td>\n",
       "    </tr>\n",
       "    <tr>\n",
       "      <th>4</th>\n",
       "      <td>DecisionTreeRegressor</td>\n",
       "      <td>0.418711</td>\n",
       "      <td>0.298</td>\n",
       "      <td>0.414</td>\n",
       "      <td>0.429</td>\n",
       "    </tr>\n",
       "    <tr>\n",
       "      <th>5</th>\n",
       "      <td>KNeighborsRegressor</td>\n",
       "      <td>0.441679</td>\n",
       "      <td>0.286</td>\n",
       "      <td>0.399</td>\n",
       "      <td>0.461</td>\n",
       "    </tr>\n",
       "    <tr>\n",
       "      <th>6</th>\n",
       "      <td>AdaBoostRegressor</td>\n",
       "      <td>0.489028</td>\n",
       "      <td>0.262</td>\n",
       "      <td>0.395</td>\n",
       "      <td>0.476</td>\n",
       "    </tr>\n",
       "    <tr>\n",
       "      <th>7</th>\n",
       "      <td>RandomForestRegressor</td>\n",
       "      <td>0.664911</td>\n",
       "      <td>0.172</td>\n",
       "      <td>0.318</td>\n",
       "      <td>0.671</td>\n",
       "    </tr>\n",
       "    <tr>\n",
       "      <th>8</th>\n",
       "      <td>GradientBoostingRegressor</td>\n",
       "      <td>0.666505</td>\n",
       "      <td>0.171</td>\n",
       "      <td>0.318</td>\n",
       "      <td>0.679</td>\n",
       "    </tr>\n",
       "    <tr>\n",
       "      <th>9</th>\n",
       "      <td>XGBRegressor</td>\n",
       "      <td>0.713755</td>\n",
       "      <td>0.147</td>\n",
       "      <td>0.296</td>\n",
       "      <td>0.723</td>\n",
       "    </tr>\n",
       "  </tbody>\n",
       "</table>\n",
       "</div>"
      ],
      "text/plain": [
       "                       Model  R2_score  Mean_Squared_Error  \\\n",
       "0           LinearRegression  0.328100               0.344   \n",
       "1                      Lasso -0.000539               0.513   \n",
       "2                      Ridge  0.328100               0.344   \n",
       "3                 ElasticNet -0.000539               0.513   \n",
       "4      DecisionTreeRegressor  0.418711               0.298   \n",
       "5        KNeighborsRegressor  0.441679               0.286   \n",
       "6          AdaBoostRegressor  0.489028               0.262   \n",
       "7      RandomForestRegressor  0.664911               0.172   \n",
       "8  GradientBoostingRegressor  0.666505               0.171   \n",
       "9               XGBRegressor  0.713755               0.147   \n",
       "\n",
       "   Mean_Absolute_Error  Cross_val_score  \n",
       "0                0.442            0.334  \n",
       "1                0.564           -0.001  \n",
       "2                0.442            0.334  \n",
       "3                0.564           -0.001  \n",
       "4                0.414            0.429  \n",
       "5                0.399            0.461  \n",
       "6                0.395            0.476  \n",
       "7                0.318            0.671  \n",
       "8                0.318            0.679  \n",
       "9                0.296            0.723  "
      ]
     },
     "execution_count": 68,
     "metadata": {},
     "output_type": "execute_result"
    }
   ],
   "source": [
    "result = pd.DataFrame({'Model': Model, 'R2_score': R2_score ,'Mean_Squared_Error' :MSE,'Mean_Absolute_Error':MAE,'Cross_val_score':cvs})\n",
    "result"
   ]
  },
  {
   "cell_type": "markdown",
   "metadata": {},
   "source": [
    "From the above table we can easily identify that our model is performing the best in XGB Regression algorithm."
   ]
  },
  {
   "cell_type": "code",
   "execution_count": 69,
   "metadata": {},
   "outputs": [],
   "source": [
    "#Lets use GridsearchCV for hyperparamenter tuning for XGBRegressor\n",
    "def maxr2_score(regr,df_x,y):\n",
    "    max_r_score=0\n",
    "    for r_state in range(42,100):\n",
    "        x_train, x_test, y_train, y_test = train_test_split(df_x, y,random_state = r_state,test_size=0.25)\n",
    "        regr.fit(x_train,y_train)\n",
    "        y_pred = regr.predict(x_test)\n",
    "        r2_scr=r2_score(y_test,y_pred)\n",
    "        if r2_scr>max_r_score:\n",
    "            max_r_score=r2_scr\n",
    "            final_r_state=r_state\n",
    "    print(\"max r2 score corresponding to \",final_r_state,\" is \",max_r_score)\n",
    "    return final_r_state"
   ]
  },
  {
   "cell_type": "code",
   "execution_count": 70,
   "metadata": {},
   "outputs": [
    {
     "data": {
      "text/plain": [
       "{'XGR__n_estimators': 100}"
      ]
     },
     "execution_count": 70,
     "metadata": {},
     "output_type": "execute_result"
    }
   ],
   "source": [
    "pipeline=Pipeline([(\"ss\",StandardScaler()),(\"XGR\",XGBRegressor())])\n",
    "parameters = {\"XGR__n_estimators\":[10,100,200,300,400,500]}\n",
    "clf = GridSearchCV(pipeline, parameters, cv=5,scoring=\"r2\")\n",
    "clf.fit(df_x,y)\n",
    "clf.best_params_"
   ]
  },
  {
   "cell_type": "code",
   "execution_count": 71,
   "metadata": {},
   "outputs": [
    {
     "name": "stdout",
     "output_type": "stream",
     "text": [
      "max r2 score corresponding to  61  is  0.7292665770184665\n"
     ]
    },
    {
     "data": {
      "text/plain": [
       "61"
      ]
     },
     "execution_count": 71,
     "metadata": {},
     "output_type": "execute_result"
    }
   ],
   "source": [
    "pipeline_XGR=Pipeline([(\"ss\",StandardScaler()),(\"XGR\",XGBRegressor(n_estimators=100))])\n",
    "maxr2_score(pipeline_XGR,df_x,y)"
   ]
  },
  {
   "cell_type": "markdown",
   "metadata": {},
   "source": [
    "We can observe that r2 score has been increased after applying the GridsearchCV from 0.71 to 0.72\n",
    "So, We canchoose XGB Regression algorithm as MSE is very less, MAE is also less and good R2 score. \n",
    "Hence XGB Regressor algorithm performs the best.\n",
    "R2 Score=0.713755\t\t\t\n",
    "MSE=0.147\n",
    "MAE=0.296\n",
    "Cross Validation Score=0.723"
   ]
  },
  {
   "cell_type": "code",
   "execution_count": 72,
   "metadata": {},
   "outputs": [
    {
     "data": {
      "text/plain": [
       "['Food_Cost_XGR.pkl']"
      ]
     },
     "execution_count": 72,
     "metadata": {},
     "output_type": "execute_result"
    }
   ],
   "source": [
    "from sklearn.externals import joblib\n",
    "joblib.dump(XGR,'Food_Cost_XGR.pkl')"
   ]
  },
  {
   "cell_type": "code",
   "execution_count": null,
   "metadata": {},
   "outputs": [],
   "source": []
  }
 ],
 "metadata": {
  "kernelspec": {
   "display_name": "Python 3",
   "language": "python",
   "name": "python3"
  },
  "language_info": {
   "codemirror_mode": {
    "name": "ipython",
    "version": 3
   },
   "file_extension": ".py",
   "mimetype": "text/x-python",
   "name": "python",
   "nbconvert_exporter": "python",
   "pygments_lexer": "ipython3",
   "version": "3.7.3"
  }
 },
 "nbformat": 4,
 "nbformat_minor": 2
}
