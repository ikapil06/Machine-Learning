{
 "cells": [
  {
   "cell_type": "code",
   "execution_count": 113,
   "metadata": {},
   "outputs": [],
   "source": [
    "import pandas as pd\n",
    "import numpy as np\n",
    "import seaborn as sns\n",
    "import matplotlib.pyplot as plt\n",
    "import sklearn\n",
    "import warnings\n",
    "warnings.filterwarnings('ignore')"
   ]
  },
  {
   "cell_type": "code",
   "execution_count": 115,
   "metadata": {},
   "outputs": [
    {
     "data": {
      "text/html": [
       "<div>\n",
       "<style scoped>\n",
       "    .dataframe tbody tr th:only-of-type {\n",
       "        vertical-align: middle;\n",
       "    }\n",
       "\n",
       "    .dataframe tbody tr th {\n",
       "        vertical-align: top;\n",
       "    }\n",
       "\n",
       "    .dataframe thead th {\n",
       "        text-align: right;\n",
       "    }\n",
       "</style>\n",
       "<table border=\"1\" class=\"dataframe\">\n",
       "  <thead>\n",
       "    <tr style=\"text-align: right;\">\n",
       "      <th></th>\n",
       "      <th>SNo</th>\n",
       "      <th>Name</th>\n",
       "      <th>Age</th>\n",
       "      <th>City</th>\n",
       "      <th>Country</th>\n",
       "      <th>Salary</th>\n",
       "    </tr>\n",
       "  </thead>\n",
       "  <tbody>\n",
       "    <tr>\n",
       "      <th>0</th>\n",
       "      <td>1</td>\n",
       "      <td>Tom</td>\n",
       "      <td>28.0</td>\n",
       "      <td>Toronto</td>\n",
       "      <td>Canada</td>\n",
       "      <td>20000.0</td>\n",
       "    </tr>\n",
       "    <tr>\n",
       "      <th>1</th>\n",
       "      <td>2</td>\n",
       "      <td>Lee</td>\n",
       "      <td>31.0</td>\n",
       "      <td>Edmonto</td>\n",
       "      <td>Canada</td>\n",
       "      <td>3900.0</td>\n",
       "    </tr>\n",
       "    <tr>\n",
       "      <th>2</th>\n",
       "      <td>3</td>\n",
       "      <td>Dave</td>\n",
       "      <td>34.0</td>\n",
       "      <td>Toronto</td>\n",
       "      <td>Canada</td>\n",
       "      <td>8000.0</td>\n",
       "    </tr>\n",
       "    <tr>\n",
       "      <th>3</th>\n",
       "      <td>4</td>\n",
       "      <td>Anik</td>\n",
       "      <td>26.0</td>\n",
       "      <td>HongKong</td>\n",
       "      <td>Asia</td>\n",
       "      <td>66672.0</td>\n",
       "    </tr>\n",
       "    <tr>\n",
       "      <th>4</th>\n",
       "      <td>5</td>\n",
       "      <td>kamal</td>\n",
       "      <td>30.0</td>\n",
       "      <td>NaN</td>\n",
       "      <td>America</td>\n",
       "      <td>NaN</td>\n",
       "    </tr>\n",
       "    <tr>\n",
       "      <th>5</th>\n",
       "      <td>6</td>\n",
       "      <td>Geet</td>\n",
       "      <td>NaN</td>\n",
       "      <td>HongKong</td>\n",
       "      <td>Asia</td>\n",
       "      <td>30007.0</td>\n",
       "    </tr>\n",
       "    <tr>\n",
       "      <th>6</th>\n",
       "      <td>7</td>\n",
       "      <td>Steven</td>\n",
       "      <td>43.0</td>\n",
       "      <td>BayArea</td>\n",
       "      <td>America</td>\n",
       "      <td>8300.0</td>\n",
       "    </tr>\n",
       "    <tr>\n",
       "      <th>7</th>\n",
       "      <td>8</td>\n",
       "      <td>Ram</td>\n",
       "      <td>38.0</td>\n",
       "      <td>Hyderabad</td>\n",
       "      <td>Asia</td>\n",
       "      <td>54666.0</td>\n",
       "    </tr>\n",
       "    <tr>\n",
       "      <th>8</th>\n",
       "      <td>9</td>\n",
       "      <td>hari</td>\n",
       "      <td>50.0</td>\n",
       "      <td>newyork</td>\n",
       "      <td>America</td>\n",
       "      <td>67666.0</td>\n",
       "    </tr>\n",
       "    <tr>\n",
       "      <th>9</th>\n",
       "      <td>11</td>\n",
       "      <td>yami</td>\n",
       "      <td>NaN</td>\n",
       "      <td>newyork</td>\n",
       "      <td>America</td>\n",
       "      <td>8888.0</td>\n",
       "    </tr>\n",
       "    <tr>\n",
       "      <th>10</th>\n",
       "      <td>12</td>\n",
       "      <td>Anik</td>\n",
       "      <td>26.0</td>\n",
       "      <td>HongKong</td>\n",
       "      <td>Asia</td>\n",
       "      <td>66672.0</td>\n",
       "    </tr>\n",
       "    <tr>\n",
       "      <th>11</th>\n",
       "      <td>13</td>\n",
       "      <td>kamal</td>\n",
       "      <td>30.0</td>\n",
       "      <td>NaN</td>\n",
       "      <td>America</td>\n",
       "      <td>34344.0</td>\n",
       "    </tr>\n",
       "    <tr>\n",
       "      <th>12</th>\n",
       "      <td>14</td>\n",
       "      <td>Geet</td>\n",
       "      <td>22.0</td>\n",
       "      <td>HongKong</td>\n",
       "      <td>Asia</td>\n",
       "      <td>30007.0</td>\n",
       "    </tr>\n",
       "    <tr>\n",
       "      <th>13</th>\n",
       "      <td>15</td>\n",
       "      <td>Steven</td>\n",
       "      <td>43.0</td>\n",
       "      <td>NaN</td>\n",
       "      <td>America</td>\n",
       "      <td>8300.0</td>\n",
       "    </tr>\n",
       "    <tr>\n",
       "      <th>14</th>\n",
       "      <td>16</td>\n",
       "      <td>Ram</td>\n",
       "      <td>38.0</td>\n",
       "      <td>Hyderabad</td>\n",
       "      <td>Asia</td>\n",
       "      <td>54666.0</td>\n",
       "    </tr>\n",
       "    <tr>\n",
       "      <th>15</th>\n",
       "      <td>17</td>\n",
       "      <td>hari</td>\n",
       "      <td>NaN</td>\n",
       "      <td>newyork</td>\n",
       "      <td>America</td>\n",
       "      <td>67666.0</td>\n",
       "    </tr>\n",
       "    <tr>\n",
       "      <th>16</th>\n",
       "      <td>18</td>\n",
       "      <td>yami</td>\n",
       "      <td>27.0</td>\n",
       "      <td>newyork</td>\n",
       "      <td>America</td>\n",
       "      <td>8888.0</td>\n",
       "    </tr>\n",
       "    <tr>\n",
       "      <th>17</th>\n",
       "      <td>19</td>\n",
       "      <td>Lee</td>\n",
       "      <td>31.0</td>\n",
       "      <td>Edmonto</td>\n",
       "      <td>Canada</td>\n",
       "      <td>NaN</td>\n",
       "    </tr>\n",
       "    <tr>\n",
       "      <th>18</th>\n",
       "      <td>20</td>\n",
       "      <td>Andrew</td>\n",
       "      <td>34.0</td>\n",
       "      <td>Congo</td>\n",
       "      <td>Africa</td>\n",
       "      <td>34432.0</td>\n",
       "    </tr>\n",
       "    <tr>\n",
       "      <th>19</th>\n",
       "      <td>21</td>\n",
       "      <td>soham</td>\n",
       "      <td>32.0</td>\n",
       "      <td>Angola</td>\n",
       "      <td>Africa</td>\n",
       "      <td>34534.0</td>\n",
       "    </tr>\n",
       "    <tr>\n",
       "      <th>20</th>\n",
       "      <td>22</td>\n",
       "      <td>Grig</td>\n",
       "      <td>26.0</td>\n",
       "      <td>Finland</td>\n",
       "      <td>Europe</td>\n",
       "      <td>33451.0</td>\n",
       "    </tr>\n",
       "    <tr>\n",
       "      <th>21</th>\n",
       "      <td>23</td>\n",
       "      <td>Kiara</td>\n",
       "      <td>27.0</td>\n",
       "      <td>London</td>\n",
       "      <td>Europe</td>\n",
       "      <td>NaN</td>\n",
       "    </tr>\n",
       "  </tbody>\n",
       "</table>\n",
       "</div>"
      ],
      "text/plain": [
       "    SNo    Name   Age       City  Country   Salary\n",
       "0     1     Tom  28.0    Toronto   Canada  20000.0\n",
       "1     2     Lee  31.0    Edmonto   Canada   3900.0\n",
       "2     3    Dave  34.0    Toronto   Canada   8000.0\n",
       "3     4    Anik  26.0   HongKong     Asia  66672.0\n",
       "4     5   kamal  30.0        NaN  America      NaN\n",
       "5     6    Geet   NaN   HongKong     Asia  30007.0\n",
       "6     7  Steven  43.0    BayArea  America   8300.0\n",
       "7     8     Ram  38.0  Hyderabad     Asia  54666.0\n",
       "8     9    hari  50.0    newyork  America  67666.0\n",
       "9    11    yami   NaN    newyork  America   8888.0\n",
       "10   12    Anik  26.0   HongKong     Asia  66672.0\n",
       "11   13   kamal  30.0        NaN  America  34344.0\n",
       "12   14    Geet  22.0   HongKong     Asia  30007.0\n",
       "13   15  Steven  43.0        NaN  America   8300.0\n",
       "14   16     Ram  38.0  Hyderabad     Asia  54666.0\n",
       "15   17    hari   NaN    newyork  America  67666.0\n",
       "16   18    yami  27.0    newyork  America   8888.0\n",
       "17   19     Lee  31.0    Edmonto   Canada      NaN\n",
       "18   20  Andrew  34.0      Congo   Africa  34432.0\n",
       "19   21   soham  32.0     Angola   Africa  34534.0\n",
       "20   22    Grig  26.0    Finland   Europe  33451.0\n",
       "21   23   Kiara  27.0     London   Europe      NaN"
      ]
     },
     "execution_count": 115,
     "metadata": {},
     "output_type": "execute_result"
    }
   ],
   "source": [
    "df_employee=pd.read_csv(\"empl.csv\")\n",
    "df_employee"
   ]
  },
  {
   "cell_type": "code",
   "execution_count": 116,
   "metadata": {},
   "outputs": [
    {
     "data": {
      "text/plain": [
       "SNo        0\n",
       "Name       0\n",
       "Age        3\n",
       "City       3\n",
       "Country    0\n",
       "Salary     3\n",
       "dtype: int64"
      ]
     },
     "execution_count": 116,
     "metadata": {},
     "output_type": "execute_result"
    }
   ],
   "source": [
    "df_employee.isnull().sum()"
   ]
  },
  {
   "cell_type": "code",
   "execution_count": 117,
   "metadata": {},
   "outputs": [],
   "source": [
    "col_to_impute=[\"Age\",\"City\"]\n",
    "for col in col_to_impute:\n",
    "    if df_employee[col].dtype!=\"object\":\n",
    "        df_employee[col].fillna(df_employee[col].mean(),inplace=True)\n",
    "    else:\n",
    "        df_employee[col].fillna(df_employee[col].mode()[0],inplace=True)"
   ]
  },
  {
   "cell_type": "code",
   "execution_count": 118,
   "metadata": {},
   "outputs": [
    {
     "data": {
      "text/plain": [
       "SNo        0\n",
       "Name       0\n",
       "Age        0\n",
       "City       0\n",
       "Country    0\n",
       "Salary     3\n",
       "dtype: int64"
      ]
     },
     "execution_count": 118,
     "metadata": {},
     "output_type": "execute_result"
    }
   ],
   "source": [
    "df_employee.isnull().sum()"
   ]
  },
  {
   "cell_type": "code",
   "execution_count": 119,
   "metadata": {},
   "outputs": [],
   "source": [
    "df_slry_grpby_city=df_employee.groupby([\"City\"]).agg({\"Salary\":\"mean\"})"
   ]
  },
  {
   "cell_type": "code",
   "execution_count": 120,
   "metadata": {},
   "outputs": [],
   "source": [
    "for index in df_slry_grpby_city.index:\n",
    "    df_employee.loc[df_employee[\"City\"]==index,[\"Salary\"]]=df_employee.loc[df_employee[\"City\"]==index,[\"Salary\"]].fillna(df_slry_grpby_city.loc[index])"
   ]
  },
  {
   "cell_type": "code",
   "execution_count": 121,
   "metadata": {},
   "outputs": [
    {
     "data": {
      "text/plain": [
       "SNo        0\n",
       "Name       0\n",
       "Age        0\n",
       "City       0\n",
       "Country    0\n",
       "Salary     1\n",
       "dtype: int64"
      ]
     },
     "execution_count": 121,
     "metadata": {},
     "output_type": "execute_result"
    }
   ],
   "source": [
    "df_employee.isnull().sum()"
   ]
  },
  {
   "cell_type": "code",
   "execution_count": 122,
   "metadata": {},
   "outputs": [],
   "source": [
    "df_employee[\"Salary\"].fillna(df_employee[\"Salary\"].mean(),inplace=True)"
   ]
  },
  {
   "cell_type": "code",
   "execution_count": 123,
   "metadata": {},
   "outputs": [
    {
     "data": {
      "text/plain": [
       "SNo        0\n",
       "Name       0\n",
       "Age        0\n",
       "City       0\n",
       "Country    0\n",
       "Salary     0\n",
       "dtype: int64"
      ]
     },
     "execution_count": 123,
     "metadata": {},
     "output_type": "execute_result"
    }
   ],
   "source": [
    "\n",
    "df_employee.isnull().sum()"
   ]
  },
  {
   "cell_type": "code",
   "execution_count": 124,
   "metadata": {},
   "outputs": [],
   "source": [
    "df_employee.drop(columns=[\"SNo\",\"Name\"],inplace=True)"
   ]
  },
  {
   "cell_type": "code",
   "execution_count": 125,
   "metadata": {},
   "outputs": [
    {
     "data": {
      "image/png": "[encoded data removed]",
      "text/plain": [
       "<Figure size 432x288 with 1 Axes>"
      ]
     },
     "metadata": {
      "needs_background": "light"
     },
     "output_type": "display_data"
    }
   ],
   "source": [
    "sns.barplot(x=\"Country\",y=\"Salary\",data=df_employee)\n",
    "plt.show()"
   ]
  },
  {
   "cell_type": "code",
   "execution_count": 126,
   "metadata": {},
   "outputs": [
    {
     "data": {
      "image/png": "[encoded data removed]",
      "text/plain": [
       "<Figure size 432x288 with 1 Axes>"
      ]
     },
     "metadata": {
      "needs_background": "light"
     },
     "output_type": "display_data"
    }
   ],
   "source": [
    "sns.barplot(x=\"City\",y=\"Salary\",data=df_employee)\n",
    "plt.show()"
   ]
  },
  {
   "cell_type": "code",
   "execution_count": 128,
   "metadata": {},
   "outputs": [],
   "source": [
    "df_employee_final=pd.get_dummies(df_employee,drop_first=True)"
   ]
  },
  {
   "cell_type": "code",
   "execution_count": 129,
   "metadata": {},
   "outputs": [],
   "source": [
    "df_x=df_employee_final.drop(columns=[\"Salary\"])\n",
    "y=df_employee_final[[\"Salary\"]]"
   ]
  },
  {
   "cell_type": "code",
   "execution_count": 130,
   "metadata": {},
   "outputs": [],
   "source": [
    "df_x=df_employee_final.drop(columns=[\"Salary\"])\n",
    "y=df_employee_final[[\"Salary\"]]"
   ]
  },
  {
   "cell_type": "code",
   "execution_count": 131,
   "metadata": {},
   "outputs": [],
   "source": [
    "from sklearn.metrics import mean_absolute_error\n",
    "from sklearn.metrics import mean_squared_error\n",
    "from sklearn.metrics import r2_score\n",
    "from sklearn.model_selection import train_test_split\n",
    "from sklearn.tree import DecisionTreeRegressor\n",
    "def maxr2_score(regr,df_x,y):\n",
    "    max_r_score=0\n",
    "    for r_state in range(42,100):\n",
    "        x_train, x_test, y_train, y_test = train_test_split(df_x, y,random_state = r_state,test_size=0.20)\n",
    "        regr.fit(x_train,y_train)\n",
    "        y_pred = regr.predict(x_test)\n",
    "        r2_scr=r2_score(y_test,y_pred)\n",
    "        print(\"r2 score corresponding to \",r_state,\" is \",r2_scr)\n",
    "        if r2_scr>max_r_score:\n",
    "            max_r_score=r2_scr\n",
    "            final_r_state=r_state\n",
    "    print(\"max r2 score corresponding to \",final_r_state,\" is \",max_r_score)\n",
    "    return final_r_state"
   ]
  },
  {
   "cell_type": "code",
   "execution_count": 132,
   "metadata": {},
   "outputs": [
    {
     "name": "stdout",
     "output_type": "stream",
     "text": [
      "r2 score corresponding to  42  is  -0.9533300738730945\n",
      "r2 score corresponding to  43  is  -2.3043580617239914\n",
      "r2 score corresponding to  44  is  -1.1572553740729572\n",
      "r2 score corresponding to  45  is  -3.7839000674192045\n",
      "r2 score corresponding to  46  is  0.19232737038335357\n",
      "r2 score corresponding to  47  is  -1.779917798271856\n",
      "r2 score corresponding to  48  is  -1.440961410189265\n",
      "r2 score corresponding to  49  is  -0.46990773417855003\n",
      "r2 score corresponding to  50  is  -0.8212699245236095\n",
      "r2 score corresponding to  51  is  -0.7717126126962035\n",
      "r2 score corresponding to  52  is  -0.8342557634585281\n",
      "r2 score corresponding to  53  is  -1.5220760115343883\n",
      "r2 score corresponding to  54  is  -0.9208429566137215\n",
      "r2 score corresponding to  55  is  -1.1196455663371916\n",
      "r2 score corresponding to  56  is  -0.9461993346045086\n",
      "r2 score corresponding to  57  is  -1.0848585756392128\n",
      "r2 score corresponding to  58  is  -2.6675365872696353\n",
      "r2 score corresponding to  59  is  -0.39141724900439123\n",
      "r2 score corresponding to  60  is  0.8521651377928476\n",
      "r2 score corresponding to  61  is  -1.3287667829099883\n",
      "r2 score corresponding to  62  is  0.7832782071340832\n",
      "r2 score corresponding to  63  is  -0.38249655345601674\n",
      "r2 score corresponding to  64  is  -4.3819549665240825\n",
      "r2 score corresponding to  65  is  -0.6985920257504634\n",
      "r2 score corresponding to  66  is  0.32262966052862796\n",
      "r2 score corresponding to  67  is  0.49711331907494294\n",
      "r2 score corresponding to  68  is  -0.6464288094121184\n",
      "r2 score corresponding to  69  is  -0.7448695509666674\n",
      "r2 score corresponding to  70  is  -1.6720438103801087\n",
      "r2 score corresponding to  71  is  -1.77786538873342\n",
      "r2 score corresponding to  72  is  -2.075229091214252\n",
      "r2 score corresponding to  73  is  -4.7813046495302265\n",
      "r2 score corresponding to  74  is  0.8490690428645533\n",
      "r2 score corresponding to  75  is  -4.0551177757586006\n",
      "r2 score corresponding to  76  is  -4.020743162560165\n",
      "r2 score corresponding to  77  is  -0.1906023711447531\n",
      "r2 score corresponding to  78  is  -0.6972896488010041\n",
      "r2 score corresponding to  79  is  0.916150010655865\n",
      "r2 score corresponding to  80  is  -2.6365381948876085\n",
      "r2 score corresponding to  81  is  -0.3173214631810215\n",
      "r2 score corresponding to  82  is  -1.4229918309327325\n",
      "r2 score corresponding to  83  is  -0.5853077470814512\n",
      "r2 score corresponding to  84  is  0.27051697653693596\n",
      "r2 score corresponding to  85  is  -0.6082610037572498\n",
      "r2 score corresponding to  86  is  -2.8926280602120187\n",
      "r2 score corresponding to  87  is  -0.1720330228459539\n",
      "r2 score corresponding to  88  is  -0.40370998677314973\n",
      "r2 score corresponding to  89  is  0.07041037206199885\n",
      "r2 score corresponding to  90  is  -8.266545389496324\n",
      "r2 score corresponding to  91  is  0.5610552999311407\n",
      "r2 score corresponding to  92  is  -0.8158331721197365\n",
      "r2 score corresponding to  93  is  -0.6831084951040283\n",
      "r2 score corresponding to  94  is  0.991647533011979\n",
      "r2 score corresponding to  95  is  -0.23679331767866696\n",
      "r2 score corresponding to  96  is  -1.7189395019904192\n",
      "r2 score corresponding to  97  is  -0.6418708774292909\n",
      "r2 score corresponding to  98  is  -9.897621278266302\n",
      "r2 score corresponding to  99  is  0.8045746761018735\n",
      "max r2 score corresponding to  94  is  0.991647533011979\n"
     ]
    }
   ],
   "source": [
    "\n",
    "regr=DecisionTreeRegressor()\n",
    "final_r_state=maxr2_score(regr,df_x,y)"
   ]
  },
  {
   "cell_type": "code",
   "execution_count": 133,
   "metadata": {},
   "outputs": [],
   "source": [
    "from sklearn.preprocessing import StandardScaler\n",
    "sc = StandardScaler()\n",
    "x = sc.fit_transform(df_x)\n",
    "x=pd.DataFrame(x,columns=df_x.columns)"
   ]
  },
  {
   "cell_type": "code",
   "execution_count": 134,
   "metadata": {},
   "outputs": [
    {
     "data": {
      "text/plain": [
       "{'n_neighbors': 2}"
      ]
     },
     "execution_count": 134,
     "metadata": {},
     "output_type": "execute_result"
    }
   ],
   "source": [
    "from sklearn.neighbors import KNeighborsRegressor\n",
    "from sklearn.model_selection import GridSearchCV\n",
    "parameters = {'n_neighbors':range(2,10)}\n",
    "knr = KNeighborsRegressor()\n",
    "clf = GridSearchCV(knr, parameters, cv=5)\n",
    "clf.fit(x,y)\n",
    "clf.best_params_"
   ]
  },
  {
   "cell_type": "code",
   "execution_count": 137,
   "metadata": {},
   "outputs": [
    {
     "name": "stdout",
     "output_type": "stream",
     "text": [
      "r2 score corresponding to  42  is  -0.14819121019914938\n",
      "r2 score corresponding to  43  is  -0.21894598740869142\n",
      "r2 score corresponding to  44  is  -0.11781813015596465\n",
      "r2 score corresponding to  45  is  -2.5582779563097064\n",
      "r2 score corresponding to  46  is  -0.0975123393807118\n",
      "r2 score corresponding to  47  is  -0.1915202405747527\n",
      "r2 score corresponding to  48  is  -0.12981544528194489\n",
      "r2 score corresponding to  49  is  -0.09727187591028041\n",
      "r2 score corresponding to  50  is  -0.05253118363895859\n",
      "r2 score corresponding to  51  is  -0.6580116974459331\n",
      "r2 score corresponding to  52  is  -0.2843168249453518\n",
      "r2 score corresponding to  53  is  0.037826547531370824\n",
      "r2 score corresponding to  54  is  -0.3797020901693784\n",
      "r2 score corresponding to  55  is  0.0975158833631925\n",
      "r2 score corresponding to  56  is  -0.14444113958716498\n",
      "r2 score corresponding to  57  is  -0.4554088212689664\n",
      "r2 score corresponding to  58  is  -1.1870083807787033\n",
      "r2 score corresponding to  59  is  -0.10315058058506121\n",
      "r2 score corresponding to  60  is  0.38534097145494806\n",
      "r2 score corresponding to  61  is  -0.2457315319237019\n",
      "r2 score corresponding to  62  is  -0.07183078738046911\n",
      "r2 score corresponding to  63  is  -0.25571964159031957\n",
      "r2 score corresponding to  64  is  -1.0979148183835394\n",
      "r2 score corresponding to  65  is  -0.4567241736932317\n",
      "r2 score corresponding to  66  is  0.10925644444403992\n",
      "r2 score corresponding to  67  is  -0.47414199334619034\n",
      "r2 score corresponding to  68  is  -0.06590259014689948\n",
      "r2 score corresponding to  69  is  -0.7892956993633644\n",
      "r2 score corresponding to  70  is  -0.2346543043514926\n",
      "r2 score corresponding to  71  is  0.7779207794928027\n",
      "r2 score corresponding to  72  is  -0.7601756158277941\n",
      "r2 score corresponding to  73  is  -1.8689821904486892\n",
      "r2 score corresponding to  74  is  -0.07927992563282671\n",
      "r2 score corresponding to  75  is  -1.3675393299029337\n",
      "r2 score corresponding to  76  is  -2.299772460823321\n",
      "r2 score corresponding to  77  is  -0.18570516728194741\n",
      "r2 score corresponding to  78  is  0.053281103178817735\n",
      "r2 score corresponding to  79  is  -0.3530736867468154\n",
      "r2 score corresponding to  80  is  -1.1647496725331306\n",
      "r2 score corresponding to  81  is  0.0031427643104171565\n",
      "r2 score corresponding to  82  is  -0.34496274187545173\n",
      "r2 score corresponding to  83  is  0.036374953155815626\n",
      "r2 score corresponding to  84  is  0.2226107480255327\n",
      "r2 score corresponding to  85  is  -0.31188534811507873\n",
      "r2 score corresponding to  86  is  -2.277644284005805\n",
      "r2 score corresponding to  87  is  -0.6397487998214597\n",
      "r2 score corresponding to  88  is  -0.24947392657942946\n",
      "r2 score corresponding to  89  is  0.12184713058100172\n",
      "r2 score corresponding to  90  is  -6.538257407580161\n",
      "r2 score corresponding to  91  is  -0.18863170175586652\n",
      "r2 score corresponding to  92  is  -0.49065418181158704\n",
      "r2 score corresponding to  93  is  -0.058020331979072415\n",
      "r2 score corresponding to  94  is  0.1514450777402695\n",
      "r2 score corresponding to  95  is  -0.5656664103717135\n",
      "r2 score corresponding to  96  is  -0.334576897594028\n",
      "r2 score corresponding to  97  is  -0.10879019342460983\n",
      "r2 score corresponding to  98  is  -3.9926383103755834\n",
      "r2 score corresponding to  99  is  0.24762934833731176\n",
      "max r2 score corresponding to  71  is  0.7779207794928027\n"
     ]
    }
   ],
   "source": [
    "knr=KNeighborsRegressor(n_neighbors=8)\n",
    "final_r_state=maxr2_score(knr,x,y)"
   ]
  },
  {
   "cell_type": "code",
   "execution_count": 138,
   "metadata": {},
   "outputs": [
    {
     "name": "stdout",
     "output_type": "stream",
     "text": [
      "r2 score corresponding to  42  is  -1.2990752682236306\n",
      "r2 score corresponding to  43  is  -2.5251157783446074\n",
      "r2 score corresponding to  44  is  -0.19901982710279675\n",
      "r2 score corresponding to  45  is  -4.22465993818632\n",
      "r2 score corresponding to  46  is  -0.2601971970935397\n",
      "r2 score corresponding to  47  is  -1.5996768708618756\n",
      "r2 score corresponding to  48  is  0.21227352395906085\n",
      "r2 score corresponding to  49  is  -0.024606121762307254\n",
      "r2 score corresponding to  50  is  0.189473573704934\n",
      "r2 score corresponding to  51  is  0.01746691293235747\n",
      "r2 score corresponding to  52  is  -0.3799242544743271\n",
      "r2 score corresponding to  53  is  -2.155008778997593\n",
      "r2 score corresponding to  54  is  -0.47876289621228874\n",
      "r2 score corresponding to  55  is  -2.4680480512167553\n",
      "r2 score corresponding to  56  is  -0.9124613605311358\n",
      "r2 score corresponding to  57  is  -1.6891238955252437\n",
      "r2 score corresponding to  58  is  -4.075734733827603\n",
      "r2 score corresponding to  59  is  -0.6752568719014447\n",
      "r2 score corresponding to  60  is  -14.922909834291653\n",
      "r2 score corresponding to  61  is  0.06491662695767642\n",
      "r2 score corresponding to  62  is  0.01626590240627468\n",
      "r2 score corresponding to  63  is  -0.45489945084170214\n",
      "r2 score corresponding to  64  is  -0.1485781883747257\n",
      "r2 score corresponding to  65  is  -1.230642756512729\n",
      "r2 score corresponding to  66  is  0.06783273058308448\n",
      "r2 score corresponding to  67  is  0.8846671350842755\n",
      "r2 score corresponding to  68  is  0.03487987156171757\n",
      "r2 score corresponding to  69  is  -0.6567601251191657\n",
      "r2 score corresponding to  70  is  -0.46669533237833916\n",
      "r2 score corresponding to  71  is  -0.06933177421540648\n",
      "r2 score corresponding to  72  is  -3.1626832055181415\n",
      "r2 score corresponding to  73  is  -1.6667660884146231\n",
      "r2 score corresponding to  74  is  0.4792919545955363\n",
      "r2 score corresponding to  75  is  -2.8129596740119838\n",
      "r2 score corresponding to  76  is  -1.3125646609946706\n",
      "r2 score corresponding to  77  is  -0.05330545165310929\n",
      "r2 score corresponding to  78  is  0.12268321522012038\n",
      "r2 score corresponding to  79  is  0.47929195459553675\n",
      "r2 score corresponding to  80  is  -0.7757622738779493\n",
      "r2 score corresponding to  81  is  0.045216798123959956\n",
      "r2 score corresponding to  82  is  -0.01665061719626104\n",
      "r2 score corresponding to  83  is  -1.10671637233173\n",
      "r2 score corresponding to  84  is  0.4443007972731555\n",
      "r2 score corresponding to  85  is  -0.6007530179096336\n",
      "r2 score corresponding to  86  is  -7.929354777087296\n",
      "r2 score corresponding to  87  is  0.034622301725151905\n",
      "r2 score corresponding to  88  is  -0.5922286925587699\n",
      "r2 score corresponding to  89  is  0.3535576186402487\n",
      "r2 score corresponding to  90  is  -7.2196635532753\n",
      "r2 score corresponding to  91  is  -0.20516812420466946\n",
      "r2 score corresponding to  92  is  -0.4529911554916679\n",
      "r2 score corresponding to  93  is  -0.43132129682962805\n",
      "r2 score corresponding to  94  is  -1.8442099016258253\n",
      "r2 score corresponding to  95  is  0.04000970498023948\n",
      "r2 score corresponding to  96  is  -1.2092334117228472\n",
      "r2 score corresponding to  97  is  0.1454345200293361\n",
      "r2 score corresponding to  98  is  -3.7139290547943578\n",
      "r2 score corresponding to  99  is  0.5160708902948448\n",
      "max r2 score corresponding to  67  is  0.8846671350842755\n"
     ]
    }
   ],
   "source": [
    "\n",
    "from sklearn.linear_model import LinearRegression\n",
    "lnr=LinearRegression()\n",
    "final_r_state=maxr2_score(lnr,df_x,y)"
   ]
  },
  {
   "cell_type": "code",
   "execution_count": 139,
   "metadata": {},
   "outputs": [],
   "source": [
    "from sklearn.model_selection import train_test_split\n",
    "x_train, x_test, y_train, y_test = train_test_split(x, y,random_state = 55,test_size=0.20)"
   ]
  },
  {
   "cell_type": "code",
   "execution_count": 140,
   "metadata": {},
   "outputs": [
    {
     "name": "stdout",
     "output_type": "stream",
     "text": [
      "max r2 score corresponding to  67  is  0.814226507934986\n"
     ]
    }
   ],
   "source": [
    "from sklearn.metrics import mean_squared_error\n",
    "from sklearn.metrics import r2_score\n",
    "from sklearn import linear_model\n",
    "max_r_score=0\n",
    "for r_state in range(42,100):\n",
    "    x_train, x_test, y_train, y_test = train_test_split(x, y,random_state = r_state,test_size=0.20)\n",
    "    regr = linear_model.LinearRegression()\n",
    "    regr.fit(x_train,y_train)\n",
    "    y_pred = regr.predict(x_test)\n",
    "    r2_scr=r2_score(y_test,y_pred)\n",
    "    if r2_scr>max_r_score:\n",
    "        max_r_score=r2_scr\n",
    "        final_r_state=r_state\n",
    "print(\"max r2 score corresponding to \",final_r_state,\" is \",max_r_score)"
   ]
  },
  {
   "cell_type": "code",
   "execution_count": 142,
   "metadata": {},
   "outputs": [],
   "source": [
    "x_train, x_test, y_train, y_test = train_test_split(x, y,random_state = 56,test_size=0.20)\n",
    "lnr=LinearRegression()\n",
    "lnr.fit(x_train,y_train)\n",
    "y_pred=lnr.predict(x_test)"
   ]
  },
  {
   "cell_type": "code",
   "execution_count": 144,
   "metadata": {},
   "outputs": [
    {
     "data": {
      "text/plain": [
       "['salary.pkl']"
      ]
     },
     "execution_count": 144,
     "metadata": {},
     "output_type": "execute_result"
    }
   ],
   "source": [
    "from sklearn.externals import joblib \n",
    "   \n",
    "joblib.dump(lnr, 'salary.pkl')"
   ]
  },
  {
   "cell_type": "code",
   "execution_count": null,
   "metadata": {},
   "outputs": [],
   "source": []
  }
 ],
 "metadata": {
  "kernelspec": {
   "display_name": "Python 3",
   "language": "python",
   "name": "python3"
  },
  "language_info": {
   "codemirror_mode": {
    "name": "ipython",
    "version": 3
   },
   "file_extension": ".py",
   "mimetype": "text/x-python",
   "name": "python",
   "nbconvert_exporter": "python",
   "pygments_lexer": "ipython3",
   "version": "3.7.3"
  }
 },
 "nbformat": 4,
 "nbformat_minor": 2
}
